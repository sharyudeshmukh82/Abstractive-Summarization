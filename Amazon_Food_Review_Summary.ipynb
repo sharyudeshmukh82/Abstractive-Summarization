{
  "cells": [
    {
      "cell_type": "code",
      "source": [
        "from attention import AttentionLayer"
      ],
      "outputs": [],
      "execution_count": null,
      "metadata": {
        "id": "3KHIdwO2Od4-"
      }
    },
    {
      "cell_type": "code",
      "source": [
        "import numpy as np\n",
        "import pandas as pd\n",
        "import matplotlib.pyplot as plt\n",
        "import re\n",
        "from bs4 import BeautifulSoup"
      ],
      "outputs": [],
      "execution_count": null,
      "metadata": {
        "id": "Y6s8677xOd5B"
      }
    },
    {
      "cell_type": "code",
      "source": [
        "from tensorflow.keras.preprocessing.text import Tokenizer\n",
        "from tensorflow.keras.preprocessing.sequence import pad_sequences\n",
        "from nltk.corpus import stopwords"
      ],
      "outputs": [],
      "execution_count": null,
      "metadata": {
        "id": "HfnMVEANOd5B"
      }
    },
    {
      "cell_type": "code",
      "source": [
        "from tensorflow.keras.models import Model\n",
        "from tensorflow.keras.layers import Input, LSTM, Embedding, Dense, Concatenate, TimeDistributed, Bidirectional\n",
        "from tensorflow.keras.callbacks import EarlyStopping"
      ],
      "outputs": [],
      "execution_count": null,
      "metadata": {
        "id": "Q5DDuBuyOd5B"
      }
    },
    {
      "cell_type": "code",
      "source": [
        "import warnings\n",
        "pd.set_option(\"display.max_colwidth\",200)\n",
        "warnings.filterwarnings(\"ignore\")"
      ],
      "outputs": [],
      "execution_count": null,
      "metadata": {
        "id": "BGrrpEBDOd5C"
      }
    },
    {
      "cell_type": "code",
      "source": [
        "data=pd.read_csv(\"/Reviews.csv\",nrows=100000)\n",
        "print(data)"
      ],
      "outputs": [
        {
          "output_type": "stream",
          "name": "stdout",
          "text": [
            "           Id   ProductId          UserId                      ProfileName  \\\n",
            "0           1  B001E4KFG0  A3SGXH7AUHU8GW                       delmartian   \n",
            "1           2  B00813GRG4  A1D87F6ZCVE5NK                           dll pa   \n",
            "2           3  B000LQOCH0   ABXLMWJIXXAIN  Natalia Corres \"Natalia Corres\"   \n",
            "3           4  B000UA0QIQ  A395BORC6FGVXV                             Karl   \n",
            "4           5  B006K2ZZ7K  A1UQRSCLF8GW1T    Michael D. Bigham \"M. Wassir\"   \n",
            "...       ...         ...             ...                              ...   \n",
            "99995   99996  B000LQORDE  A2P7HIRYYWVOBD                            Mason   \n",
            "99996   99997  B000LQORDE  A1K0ZH5MQFBA77                       jennilight   \n",
            "99997   99998  B000LQORDE  A29FRN2O7LWINL                          T. Tsai   \n",
            "99998   99999  B000LQORDE   A9Q950IPXJR1D          Lynda \"casual customer\"   \n",
            "99999  100000  B000LQORDE  A19W47CXJJP1MI               Amazonian Consumer   \n",
            "\n",
            "       HelpfulnessNumerator  HelpfulnessDenominator  Score        Time  \\\n",
            "0                         1                       1      5  1303862400   \n",
            "1                         0                       0      1  1346976000   \n",
            "2                         1                       1      4  1219017600   \n",
            "3                         3                       3      2  1307923200   \n",
            "4                         0                       0      5  1350777600   \n",
            "...                     ...                     ...    ...         ...   \n",
            "99995                     2                       5      5  1254096000   \n",
            "99996                     2                       5      4  1250985600   \n",
            "99997                     2                       5      5  1237766400   \n",
            "99998                     2                       5      4  1237161600   \n",
            "99999                     2                       5      5  1235088000   \n",
            "\n",
            "                                                 Summary  \\\n",
            "0                                  Good Quality Dog Food   \n",
            "1                                      Not as Advertised   \n",
            "2                                  \"Delight\" says it all   \n",
            "3                                         Cough Medicine   \n",
            "4                                            Great taffy   \n",
            "...                                                  ...   \n",
            "99995                                             yummy!   \n",
            "99996                                  Tastes like More!   \n",
            "99997                                        Great ramen   \n",
            "99998                                            Spicy!!   \n",
            "99999  This spicy noodle cures my cold, upset stomach...   \n",
            "\n",
            "                                                    Text  \n",
            "0      I have bought several of the Vitality canned d...  \n",
            "1      Product arrived labeled as Jumbo Salted Peanut...  \n",
            "2      This is a confection that has been around a fe...  \n",
            "3      If you are looking for the secret ingredient i...  \n",
            "4      Great taffy at a great price.  There was a wid...  \n",
            "...                                                  ...  \n",
            "99995  I just love it and will buy another box when I...  \n",
            "99996  My late father in law used to have a rating sy...  \n",
            "99997  This is my favorite brand of Korean ramen. It ...  \n",
            "99998  I do like these noodles although, to say they ...  \n",
            "99999  I love this noodle and have it once or twice a...  \n",
            "\n",
            "[100000 rows x 10 columns]\n"
          ]
        }
      ],
      "execution_count": null,
      "metadata": {
        "colab": {
          "base_uri": "https://localhost:8080/"
        },
        "id": "m0kmvAfKOd5C",
        "outputId": "838b8a2c-4cbd-4c88-a1d8-b82c06c0fe2e"
      }
    },
    {
      "cell_type": "code",
      "source": [
        "data.drop_duplicates(subset=['Text'],inplace=True)  #dropping duplicates\n",
        "data.dropna(axis=0,inplace=True)   #dropping na"
      ],
      "outputs": [],
      "execution_count": null,
      "metadata": {
        "id": "xVN4c_hCOd5D"
      }
    },
    {
      "cell_type": "markdown",
      "source": [],
      "metadata": {
        "id": "MVmkwM2gR8HZ"
      }
    },
    {
      "cell_type": "code",
      "source": [
        "from google.colab import drive\n",
        "drive.mount('/content/drive')"
      ],
      "metadata": {
        "colab": {
          "base_uri": "https://localhost:8080/"
        },
        "id": "WPmG7fONRycD",
        "outputId": "e30bf4de-7354-4984-f87f-87cdde64179c"
      },
      "execution_count": null,
      "outputs": [
        {
          "output_type": "stream",
          "name": "stdout",
          "text": [
            "Mounted at /content/drive\n"
          ]
        }
      ]
    },
    {
      "cell_type": "code",
      "source": [
        "contraction_mapping = {\"ain't\": \"is not\", \"aren't\": \"are not\",\"can't\": \"cannot\", \"'cause\": \"because\", \"could've\": \"could have\", \"couldn't\": \"could not\",\n",
        "\n",
        "                           \"didn't\": \"did not\", \"doesn't\": \"does not\", \"don't\": \"do not\", \"hadn't\": \"had not\", \"hasn't\": \"has not\", \"haven't\": \"have not\",\n",
        "\n",
        "                           \"he'd\": \"he would\",\"he'll\": \"he will\", \"he's\": \"he is\", \"how'd\": \"how did\", \"how'd'y\": \"how do you\", \"how'll\": \"how will\", \"how's\": \"how is\",\n",
        "\n",
        "                           \"I'd\": \"I would\", \"I'd've\": \"I would have\", \"I'll\": \"I will\", \"I'll've\": \"I will have\",\"I'm\": \"I am\", \"I've\": \"I have\", \"i'd\": \"i would\",\n",
        "\n",
        "                           \"i'd've\": \"i would have\", \"i'll\": \"i will\",  \"i'll've\": \"i will have\",\"i'm\": \"i am\", \"i've\": \"i have\", \"isn't\": \"is not\", \"it'd\": \"it would\",\n",
        "\n",
        "                           \"it'd've\": \"it would have\", \"it'll\": \"it will\", \"it'll've\": \"it will have\",\"it's\": \"it is\", \"let's\": \"let us\", \"ma'am\": \"madam\",\n",
        "\n",
        "                           \"mayn't\": \"may not\", \"might've\": \"might have\",\"mightn't\": \"might not\",\"mightn't've\": \"might not have\", \"must've\": \"must have\",\n",
        "\n",
        "                           \"mustn't\": \"must not\", \"mustn't've\": \"must not have\", \"needn't\": \"need not\", \"needn't've\": \"need not have\",\"o'clock\": \"of the clock\",\n",
        "\n",
        "                           \"oughtn't\": \"ought not\", \"oughtn't've\": \"ought not have\", \"shan't\": \"shall not\", \"sha'n't\": \"shall not\", \"shan't've\": \"shall not have\",\n",
        "\n",
        "                           \"she'd\": \"she would\", \"she'd've\": \"she would have\", \"she'll\": \"she will\", \"she'll've\": \"she will have\", \"she's\": \"she is\",\n",
        "\n",
        "                           \"should've\": \"should have\", \"shouldn't\": \"should not\", \"shouldn't've\": \"should not have\", \"so've\": \"so have\",\"so's\": \"so as\",\n",
        "\n",
        "                           \"this's\": \"this is\",\"that'd\": \"that would\", \"that'd've\": \"that would have\", \"that's\": \"that is\", \"there'd\": \"there would\",\n",
        "\n",
        "                           \"there'd've\": \"there would have\", \"there's\": \"there is\", \"here's\": \"here is\",\"they'd\": \"they would\", \"they'd've\": \"they would have\",\n",
        "\n",
        "                           \"they'll\": \"they will\", \"they'll've\": \"they will have\", \"they're\": \"they are\", \"they've\": \"they have\", \"to've\": \"to have\",\n",
        "\n",
        "                           \"wasn't\": \"was not\", \"we'd\": \"we would\", \"we'd've\": \"we would have\", \"we'll\": \"we will\", \"we'll've\": \"we will have\", \"we're\": \"we are\",\n",
        "\n",
        "                           \"we've\": \"we have\", \"weren't\": \"were not\", \"what'll\": \"what will\", \"what'll've\": \"what will have\", \"what're\": \"what are\",\n",
        "\n",
        "                           \"what's\": \"what is\", \"what've\": \"what have\", \"when's\": \"when is\", \"when've\": \"when have\", \"where'd\": \"where did\", \"where's\": \"where is\",\n",
        "\n",
        "                           \"where've\": \"where have\", \"who'll\": \"who will\", \"who'll've\": \"who will have\", \"who's\": \"who is\", \"who've\": \"who have\",\n",
        "\n",
        "                           \"why's\": \"why is\", \"why've\": \"why have\", \"will've\": \"will have\", \"won't\": \"will not\", \"won't've\": \"will not have\",\n",
        "\n",
        "                           \"would've\": \"would have\", \"wouldn't\": \"would not\", \"wouldn't've\": \"would not have\", \"y'all\": \"you all\",\n",
        "\n",
        "                           \"y'all'd\": \"you all would\",\"y'all'd've\": \"you all would have\",\"y'all're\": \"you all are\",\"y'all've\": \"you all have\",\n",
        "\n",
        "                           \"you'd\": \"you would\", \"you'd've\": \"you would have\", \"you'll\": \"you will\", \"you'll've\": \"you will have\",\n",
        "\n",
        "                           \"you're\": \"you are\", \"you've\": \"you have\"}"
      ],
      "outputs": [],
      "execution_count": null,
      "metadata": {
        "id": "BCB6j46bOd5D"
      }
    },
    {
      "cell_type": "code",
      "source": [
        "%whos"
      ],
      "outputs": [
        {
          "output_type": "stream",
          "name": "stdout",
          "text": [
            "Variable              Type                Data/Info\n",
            "---------------------------------------------------\n",
            "AttentionLayer        type                <class 'attention.AttentionLayer'>\n",
            "BeautifulSoup         type                <class 'bs4.BeautifulSoup'>\n",
            "Bidirectional         type                <class 'tensorflow.python<...>.wrappers.Bidirectional'>\n",
            "Concatenate           type                <class 'tensorflow.python<...>ayers.merge.Concatenate'>\n",
            "Dense                 type                <class 'tensorflow.python<...>keras.layers.core.Dense'>\n",
            "EarlyStopping         type                <class 'tensorflow.python<...>callbacks.EarlyStopping'>\n",
            "Embedding             type                <class 'tensorflow.python<...>rs.embeddings.Embedding'>\n",
            "Input                 function            <function Input at 0x0000027032C9C0D8>\n",
            "LSTM                  type                <class 'tensorflow.python<...>ayers.recurrent_v2.LSTM'>\n",
            "Model                 type                <class 'tensorflow.python<...>s.engine.training.Model'>\n",
            "TimeDistributed       type                <class 'tensorflow.python<...>rappers.TimeDistributed'>\n",
            "Tokenizer             type                <class 'keras_preprocessing.text.Tokenizer'>\n",
            "contraction_mapping   dict                n=120\n",
            "data                  DataFrame                      Id   ProductId<...>[88421 rows x 10 columns]\n",
            "np                    module              <module 'numpy' from 'e:\\<...>ges\\\\numpy\\\\__init__.py'>\n",
            "pad_sequences         function            <function pad_sequences at 0x0000027035868948>\n",
            "pd                    module              <module 'pandas' from 'e:<...>es\\\\pandas\\\\__init__.py'>\n",
            "plt                   module              <module 'matplotlib.pyplo<...>\\\\matplotlib\\\\pyplot.py'>\n",
            "re                    module              <module 're' from 'C:\\\\Us<...>n\\\\Python37\\\\lib\\\\re.py'>\n",
            "stopwords             LazyCorpusLoader    <WordListCorpusReader in <...>pwords' (not loaded yet)>\n",
            "warnings              module              <module 'warnings' from '<...>hon37\\\\lib\\\\warnings.py'>\n"
          ]
        }
      ],
      "execution_count": null,
      "metadata": {
        "id": "vYg1vvxpOd5E",
        "outputId": "296edb47-096a-4aea-9015-6d1484c8949a"
      }
    },
    {
      "cell_type": "code",
      "source": [
        "data['Text'][:10]"
      ],
      "outputs": [
        {
          "output_type": "execute_result",
          "execution_count": 10,
          "data": {
            "text/plain": [
              "0    I have bought several of the Vitality canned dog food products and have found them all to be of good quality. The product looks more like a stew than a processed meat and it smells better. My Labr...\n",
              "1             Product arrived labeled as Jumbo Salted Peanuts...the peanuts were actually small sized unsalted. Not sure if this was an error or if the vendor intended to represent the product as \"Jumbo\".\n",
              "2    This is a confection that has been around a few centuries.  It is a light, pillowy citrus gelatin with nuts - in this case Filberts. And it is cut into tiny squares and then liberally coated with ...\n",
              "3    If you are looking for the secret ingredient in Robitussin I believe I have found it.  I got this in addition to the Root Beer Extract I ordered (which was good) and made some cherry soda.  The fl...\n",
              "4                                                               Great taffy at a great price.  There was a wide assortment of yummy taffy.  Delivery was very quick.  If your a taffy lover, this is a deal.\n",
              "5    I got a wild hair for taffy and ordered this five pound bag. The taffy was all very enjoyable with many flavors: watermelon, root beer, melon, peppermint, grape, etc. My only complaint is there wa...\n",
              "6    This saltwater taffy had great flavors and was very soft and chewy.  Each candy was individually wrapped well.  None of the candies were stuck together, which did happen in the expensive version, ...\n",
              "7                                                               This taffy is so good.  It is very soft and chewy.  The flavors are amazing.  I would definitely recommend you buying it.  Very satisfying!!\n",
              "8                                                                        Right now I'm mostly just sprouting this so my cats can eat the grass. They love it. I rotate it around with Wheatgrass and Rye too\n",
              "9                                                                  This is a very healthy dog food. Good for their digestion. Also good for small puppies. My dog eats her required amount at every feeding.\n",
              "Name: Text, dtype: object"
            ]
          },
          "metadata": {}
        }
      ],
      "execution_count": null,
      "metadata": {
        "id": "QW0PmaegOd5F",
        "outputId": "1a9bb91c-ac90-4317-b503-2eb12dd4608f"
      }
    },
    {
      "cell_type": "code",
      "source": [
        "stop_words = set(stopwords.words('english')) \n",
        "def text_cleaner(text):\n",
        "    newString = text.lower()\n",
        "    newString = BeautifulSoup(newString, \"lxml\").text\n",
        "    newString = re.sub(r'\\([^)]*\\)', '', newString)\n",
        "    newString = re.sub('\"','', newString)\n",
        "    newString = ' '.join([contraction_mapping[t] if t in contraction_mapping else t for t in newString.split(\" \")])    \n",
        "    newString = re.sub(r\"'s\\b\",\"\",newString)\n",
        "    newString = re.sub(\"[^a-zA-Z]\", \" \", newString) \n",
        "    tokens = [w for w in newString.split() if not w in stop_words]\n",
        "    long_words=[]\n",
        "    for i in tokens:\n",
        "        if len(i)>=3:                  #removing short word\n",
        "            long_words.append(i)   \n",
        "    return (\" \".join(long_words)).strip()\n",
        "\n",
        "cleaned_text = []\n",
        "for t in data['Text']:\n",
        "    cleaned_text.append(text_cleaner(t))"
      ],
      "outputs": [],
      "execution_count": null,
      "metadata": {
        "id": "rSVcpAaiOd5F"
      }
    },
    {
      "cell_type": "code",
      "source": [
        "data['Summary'][:10]"
      ],
      "outputs": [
        {
          "output_type": "execute_result",
          "execution_count": 14,
          "data": {
            "text/plain": [
              "0                            Good Quality Dog Food\n",
              "1                                Not as Advertised\n",
              "2                            \"Delight\" says it all\n",
              "3                                   Cough Medicine\n",
              "4                                      Great taffy\n",
              "5                                       Nice Taffy\n",
              "6    Great!  Just as good as the expensive brands!\n",
              "7                           Wonderful, tasty taffy\n",
              "8                                       Yay Barley\n",
              "9                                 Healthy Dog Food\n",
              "Name: Summary, dtype: object"
            ]
          },
          "metadata": {}
        }
      ],
      "execution_count": null,
      "metadata": {
        "id": "kZBOR1WIOd5F",
        "outputId": "e3e10e3f-4970-4562-b083-afabc27f434b"
      }
    },
    {
      "cell_type": "code",
      "source": [
        "def summary_cleaner(text):\n",
        "    newString = re.sub('\"','', text)\n",
        "    newString = ' '.join([contraction_mapping[t] if t in contraction_mapping else t for t in newString.split(\" \")])    \n",
        "    newString = re.sub(r\"'s\\b\",\"\",newString)\n",
        "    newString = re.sub(\"[^a-zA-Z]\", \" \", newString)\n",
        "    newString = newString.lower()\n",
        "    tokens=newString.split()\n",
        "    newString=''\n",
        "    for i in tokens:\n",
        "        if len(i)>1:                                 \n",
        "            newString=newString+i+' '  \n",
        "    return newString\n",
        "\n",
        "#Call the above function\n",
        "cleaned_summary = []\n",
        "for t in data['Summary']:\n",
        "    cleaned_summary.append(summary_cleaner(t))\n",
        "\n",
        "data['cleaned_text']=cleaned_text\n",
        "data['cleaned_summary']=cleaned_summary\n",
        "data['cleaned_summary'].replace('', np.nan, inplace=True)\n",
        "data.dropna(axis=0,inplace=True)"
      ],
      "outputs": [],
      "execution_count": null,
      "metadata": {
        "id": "XscKxzCOOd5G"
      }
    },
    {
      "cell_type": "code",
      "source": [
        "data['cleaned_summary'] = data['cleaned_summary'].apply(lambda x : '_START_ '+ x + ' _END_')"
      ],
      "outputs": [],
      "execution_count": null,
      "metadata": {
        "id": "BnygJP3hOd5G"
      }
    },
    {
      "cell_type": "code",
      "source": [
        "data['cleaned_summary'][0]"
      ],
      "outputs": [
        {
          "output_type": "execute_result",
          "execution_count": 20,
          "data": {
            "text/plain": [
              "'_START_ good quality dog food  _END_'"
            ]
          },
          "metadata": {}
        }
      ],
      "execution_count": null,
      "metadata": {
        "id": "dzd3gmu5Od5G",
        "outputId": "5819b993-f0d4-4fd6-d390-8d26b8363b5b"
      }
    },
    {
      "cell_type": "code",
      "source": [
        "for i in range(5):\n",
        "    print(\"Review:\",data['cleaned_text'][i])\n",
        "    print(\"Summary:\",data['cleaned_summary'][i])\n",
        "    print(\"\\n\")"
      ],
      "outputs": [
        {
          "output_type": "stream",
          "name": "stdout",
          "text": [
            "Review: bought several vitality canned dog food products found good quality product looks like stew processed meat smells better labrador finicky appreciates product better\n",
            "Summary: _START_ good quality dog food  _END_\n",
            "\n",
            "\n",
            "Review: product arrived labeled jumbo salted peanuts peanuts actually small sized unsalted sure error vendor intended represent product jumbo\n",
            "Summary: _START_ not as advertised  _END_\n",
            "\n",
            "\n",
            "Review: confection around centuries light pillowy citrus gelatin nuts case filberts cut tiny squares liberally coated powdered sugar tiny mouthful heaven chewy flavorful highly recommend yummy treat familiar story lewis lion witch wardrobe treat seduces edmund selling brother sisters witch\n",
            "Summary: _START_ delight says it all  _END_\n",
            "\n",
            "\n",
            "Review: looking secret ingredient robitussin believe found got addition root beer extract ordered made cherry soda flavor medicinal\n",
            "Summary: _START_ cough medicine  _END_\n",
            "\n",
            "\n",
            "Review: great taffy great price wide assortment yummy taffy delivery quick taffy lover deal\n",
            "Summary: _START_ great taffy  _END_\n",
            "\n",
            "\n"
          ]
        }
      ],
      "execution_count": null,
      "metadata": {
        "id": "GdZN6udOOd5G",
        "outputId": "a9327f86-8497-4b28-bc89-c1b6f505dced"
      }
    },
    {
      "cell_type": "code",
      "source": [
        "text_word_count = []\n",
        "summary_word_count = []\n",
        "\n",
        "# populate the lists with sentence lengths\n",
        "for i in data['cleaned_text']:\n",
        "      text_word_count.append(len(i.split()))\n",
        "\n",
        "for i in data['cleaned_summary']:\n",
        "      summary_word_count.append(len(i.split()))\n",
        "\n",
        "length_df = pd.DataFrame({'text':text_word_count, 'summary':summary_word_count})\n",
        "length_df.hist(bins = 30)\n",
        "plt.show()"
      ],
      "outputs": [
        {
          "output_type": "display_data",
          "data": {
            "image/png": "[encoded data removed]",
            "text/plain": [
              "<Figure size 432x288 with 2 Axes>"
            ]
          },
          "metadata": {
            "needs_background": "light"
          }
        }
      ],
      "execution_count": null,
      "metadata": {
        "id": "vlD3zUw5Od5G",
        "outputId": "22ffea62-4d52-4c72-f2e4-c51a70fa57eb"
      }
    },
    {
      "cell_type": "code",
      "source": [
        "max_len_text=80 \n",
        "max_len_summary=10"
      ],
      "outputs": [],
      "execution_count": null,
      "metadata": {
        "id": "mCLJ3H9XOd5H"
      }
    },
    {
      "cell_type": "code",
      "source": [
        "from sklearn.model_selection import train_test_split\n",
        "x_tr,x_val,y_tr,y_val = train_test_split(data['cleaned_text'],data['cleaned_summary'],test_size=0.1,random_state=0,shuffle=True) "
      ],
      "outputs": [],
      "execution_count": null,
      "metadata": {
        "id": "edw-DI3BOd5H"
      }
    },
    {
      "cell_type": "code",
      "source": [
        "%whos"
      ],
      "outputs": [
        {
          "output_type": "stream",
          "name": "stdout",
          "text": [
            "Variable              Type                    Data/Info\n",
            "-------------------------------------------------------\n",
            "AttentionLayer        type                    <class 'attention.AttentionLayer'>\n",
            "BeautifulSoup         type                    <class 'bs4.BeautifulSoup'>\n",
            "Bidirectional         type                    <class 'tensorflow.python<...>.wrappers.Bidirectional'>\n",
            "Concatenate           type                    <class 'tensorflow.python<...>ayers.merge.Concatenate'>\n",
            "Dense                 type                    <class 'tensorflow.python<...>keras.layers.core.Dense'>\n",
            "EarlyStopping         type                    <class 'tensorflow.python<...>callbacks.EarlyStopping'>\n",
            "Embedding             type                    <class 'tensorflow.python<...>rs.embeddings.Embedding'>\n",
            "Input                 function                <function Input at 0x0000027032C9C0D8>\n",
            "LSTM                  type                    <class 'tensorflow.python<...>ayers.recurrent_v2.LSTM'>\n",
            "Model                 type                    <class 'tensorflow.python<...>s.engine.training.Model'>\n",
            "TimeDistributed       type                    <class 'tensorflow.python<...>rappers.TimeDistributed'>\n",
            "Tokenizer             type                    <class 'keras_preprocessing.text.Tokenizer'>\n",
            "cleaned_summary       list                    n=88421\n",
            "cleaned_text          list                    n=88421\n",
            "contraction_mapping   dict                    n=120\n",
            "data                  DataFrame                          Id   ProductId<...>[88352 rows x 12 columns]\n",
            "i                     str                     _START_ this spicy noodle<...>eadache every time  _END_\n",
            "length_df             DataFrame                      text  summary\\n0  <...>n[88352 rows x 2 columns]\n",
            "max_len_summary       int                     10\n",
            "max_len_text          int                     80\n",
            "np                    module                  <module 'numpy' from 'e:\\<...>ges\\\\numpy\\\\__init__.py'>\n",
            "pad_sequences         function                <function pad_sequences at 0x0000027035868948>\n",
            "pd                    module                  <module 'pandas' from 'e:<...>es\\\\pandas\\\\__init__.py'>\n",
            "plt                   module                  <module 'matplotlib.pyplo<...>\\\\matplotlib\\\\pyplot.py'>\n",
            "re                    module                  <module 're' from 'C:\\\\Us<...>n\\\\Python37\\\\lib\\\\re.py'>\n",
            "stop_words            set                     {'will', 'aren', 's', 'ot<...>e', 'is', 'have', 'from'}\n",
            "stopwords             WordListCorpusReader    <WordListCorpusReader in <...>ata\\\\corpora\\\\stopwords'>\n",
            "summary_cleaner       function                <function summary_cleaner at 0x0000027040071AF8>\n",
            "summary_word_count    list                    n=88352\n",
            "t                     str                     This spicy noodle cures m<...> and headache every time!\n",
            "text_cleaner          function                <function text_cleaner at 0x00000270207F25E8>\n",
            "text_word_count       list                    n=88352\n",
            "train_test_split      function                <function train_test_split at 0x0000027038CCA948>\n",
            "warnings              module                  <module 'warnings' from '<...>hon37\\\\lib\\\\warnings.py'>\n",
            "x_tr                  Series                  3256                     <...>gth: 79516, dtype: object\n",
            "x_val                 Series                  52830                    <...>ngth: 8836, dtype: object\n",
            "y_tr                  Series                  3256                     <...>gth: 79516, dtype: object\n",
            "y_val                 Series                  52830                    <...>ngth: 8836, dtype: object\n"
          ]
        }
      ],
      "execution_count": null,
      "metadata": {
        "id": "TJQoEiUAOd5H",
        "outputId": "b85504ab-6f24-49a7-b32b-52ef28eded8e"
      }
    },
    {
      "cell_type": "code",
      "source": [
        "#prepare a tokenizer for reviews on training data\n",
        "x_tokenizer = Tokenizer()\n",
        "x_tokenizer.fit_on_texts(list(x_tr))\n",
        "\n",
        "#convert text sequences into integer sequences\n",
        "x_tr    =   x_tokenizer.texts_to_sequences(x_tr) \n",
        "x_val   =   x_tokenizer.texts_to_sequences(x_val)\n",
        "\n",
        "#padding zero upto maximum length\n",
        "x_tr    =   pad_sequences(x_tr,  maxlen=max_len_text, padding='post') \n",
        "x_val   =   pad_sequences(x_val, maxlen=max_len_text, padding='post')\n",
        "\n",
        "x_voc_size   =  len(x_tokenizer.word_index) +1"
      ],
      "outputs": [],
      "execution_count": null,
      "metadata": {
        "id": "aDdOr1OJOd5H"
      }
    },
    {
      "cell_type": "code",
      "source": [
        "#preparing a tokenizer for summary on training data \n",
        "y_tokenizer = Tokenizer()\n",
        "y_tokenizer.fit_on_texts(list(y_tr))\n",
        "\n",
        "#convert summary sequences into integer sequences\n",
        "y_tr    =   y_tokenizer.texts_to_sequences(y_tr) \n",
        "y_val   =   y_tokenizer.texts_to_sequences(y_val) \n",
        "\n",
        "#padding zero upto maximum length\n",
        "y_tr    =   pad_sequences(y_tr, maxlen=max_len_summary, padding='post')\n",
        "y_val   =   pad_sequences(y_val, maxlen=max_len_summary, padding='post')\n",
        "\n",
        "y_voc_size  =   len(y_tokenizer.word_index) +1"
      ],
      "outputs": [],
      "execution_count": null,
      "metadata": {
        "id": "lbHbqOKkOd5H"
      }
    },
    {
      "cell_type": "code",
      "source": [
        "from tensorflow.keras import backend as K \n",
        "K.clear_session() \n",
        "latent_dim = 500 \n",
        "\n",
        "# Encoder \n",
        "encoder_inputs = Input(shape=(max_len_text,)) \n",
        "enc_emb = Embedding(x_voc_size, latent_dim,trainable=True)(encoder_inputs) \n",
        "\n",
        "#LSTM 1 \n",
        "encoder_lstm1 = LSTM(latent_dim,return_sequences=True,return_state=True) \n",
        "encoder_output1, state_h1, state_c1 = encoder_lstm1(enc_emb) \n",
        "\n",
        "#LSTM 2 \n",
        "encoder_lstm2 = LSTM(latent_dim,return_sequences=True,return_state=True) \n",
        "encoder_output2, state_h2, state_c2 = encoder_lstm2(encoder_output1) \n",
        "\n",
        "#LSTM 3 \n",
        "encoder_lstm3=LSTM(latent_dim, return_state=True, return_sequences=True) \n",
        "encoder_outputs, state_h, state_c= encoder_lstm3(encoder_output2) \n",
        "\n",
        "# Set up the decoder. \n",
        "decoder_inputs = Input(shape=(None,)) \n",
        "dec_emb_layer = Embedding(y_voc_size, latent_dim,trainable=True) \n",
        "dec_emb = dec_emb_layer(decoder_inputs) \n",
        "\n",
        "#LSTM using encoder_states as initial state\n",
        "decoder_lstm = LSTM(latent_dim, return_sequences=True, return_state=True) \n",
        "decoder_outputs,decoder_fwd_state, decoder_back_state = decoder_lstm(dec_emb,initial_state=[state_h, state_c]) \n",
        "\n",
        "#Attention Layer\n",
        "attn_layer = AttentionLayer(name='attention_layer') \n",
        "attn_out, attn_states = attn_layer([encoder_outputs, decoder_outputs]) \n",
        "\n",
        "# Concat attention output and decoder LSTM output \n",
        "decoder_concat_input = Concatenate(axis=-1, name='concat_layer')([decoder_outputs, attn_out])\n",
        "\n",
        "#Dense layer\n",
        "decoder_dense = TimeDistributed(Dense(y_voc_size, activation='softmax')) \n",
        "decoder_outputs = decoder_dense(decoder_concat_input) \n",
        "\n",
        "# Define the model\n",
        "model = Model([encoder_inputs, decoder_inputs], decoder_outputs) \n",
        "model.summary()"
      ],
      "outputs": [
        {
          "output_type": "stream",
          "name": "stdout",
          "text": [
            "Model: \"model\"\n",
            "__________________________________________________________________________________________________\n",
            "Layer (type)                    Output Shape         Param #     Connected to                     \n",
            "==================================================================================================\n",
            "input_1 (InputLayer)            [(None, 80)]         0                                            \n",
            "__________________________________________________________________________________________________\n",
            "embedding (Embedding)           (None, 80, 500)      25785500    input_1[0][0]                    \n",
            "__________________________________________________________________________________________________\n",
            "lstm (LSTM)                     [(None, 80, 500), (N 2002000     embedding[0][0]                  \n",
            "__________________________________________________________________________________________________\n",
            "input_2 (InputLayer)            [(None, None)]       0                                            \n",
            "__________________________________________________________________________________________________\n",
            "lstm_1 (LSTM)                   [(None, 80, 500), (N 2002000     lstm[0][0]                       \n",
            "__________________________________________________________________________________________________\n",
            "embedding_1 (Embedding)         (None, None, 500)    7048000     input_2[0][0]                    \n",
            "__________________________________________________________________________________________________\n",
            "lstm_2 (LSTM)                   [(None, 80, 500), (N 2002000     lstm_1[0][0]                     \n",
            "__________________________________________________________________________________________________\n",
            "lstm_3 (LSTM)                   [(None, None, 500),  2002000     embedding_1[0][0]                \n",
            "                                                                 lstm_2[0][1]                     \n",
            "                                                                 lstm_2[0][2]                     \n",
            "__________________________________________________________________________________________________\n",
            "attention_layer (AttentionLayer ((None, None, 500),  500500      lstm_2[0][0]                     \n",
            "                                                                 lstm_3[0][0]                     \n",
            "__________________________________________________________________________________________________\n",
            "concat_layer (Concatenate)      (None, None, 1000)   0           lstm_3[0][0]                     \n",
            "                                                                 attention_layer[0][0]            \n",
            "__________________________________________________________________________________________________\n",
            "time_distributed (TimeDistribut (None, None, 14096)  14110096    concat_layer[0][0]               \n",
            "==================================================================================================\n",
            "Total params: 55,452,096\n",
            "Trainable params: 55,452,096\n",
            "Non-trainable params: 0\n",
            "__________________________________________________________________________________________________\n"
          ]
        }
      ],
      "execution_count": null,
      "metadata": {
        "id": "o8vyFliuOd5H",
        "outputId": "ff14a4be-54fa-4826-e48a-66d6a7867110"
      }
    },
    {
      "cell_type": "code",
      "source": [
        "model.compile(optimizer='rmsprop', loss='sparse_categorical_crossentropy')"
      ],
      "outputs": [],
      "execution_count": null,
      "metadata": {
        "id": "BqSppJdkOd5I"
      }
    },
    {
      "cell_type": "code",
      "source": [
        "es = EarlyStopping(monitor='val_loss', mode='min', verbose=1)"
      ],
      "outputs": [],
      "execution_count": null,
      "metadata": {
        "id": "906Bg4GcOd5I"
      }
    },
    {
      "cell_type": "code",
      "source": [
        "%time\n",
        "history=model.fit(\n",
        "    [x_tr,y_tr[:,:-1]], \n",
        "    y_tr.reshape(y_tr.shape[0],y_tr.shape[1], 1)[:,1:],\n",
        "    epochs=5,\n",
        "    callbacks=[es],\n",
        "    batch_size=200, \n",
        "    validation_data=([x_val,y_val[:,:-1]],y_val.reshape(y_val.shape[0],y_val.shape[1], 1)[:,1:]),\n",
        "    verbose=2\n",
        ")"
      ],
      "outputs": [
        {
          "output_type": "stream",
          "name": "stdout",
          "text": [
            "Wall time: 0 ns\n",
            "Train on 79516 samples, validate on 8836 samples\n",
            "Epoch 1/5\n",
            "79516/79516 - 463s - loss: 2.1998 - val_loss: 2.1766\n",
            "Epoch 2/5\n",
            "79516/79516 - 472s - loss: 2.0792 - val_loss: 2.1561\n",
            "Epoch 3/5\n",
            "79516/79516 - 509s - loss: 1.9761 - val_loss: 2.1565\n",
            "Epoch 00003: early stopping\n"
          ]
        }
      ],
      "execution_count": null,
      "metadata": {
        "id": "9_adUUuZOd5I",
        "outputId": "de97aee5-042b-4b3e-e018-bb07bee53e79"
      }
    },
    {
      "cell_type": "code",
      "source": [
        "%whos"
      ],
      "outputs": [
        {
          "output_type": "stream",
          "name": "stdout",
          "text": [
            "Variable               Type                    Data/Info\n",
            "--------------------------------------------------------\n",
            "AttentionLayer         type                    <class 'attention.AttentionLayer'>\n",
            "BeautifulSoup          type                    <class 'bs4.BeautifulSoup'>\n",
            "Bidirectional          type                    <class 'tensorflow.python<...>.wrappers.Bidirectional'>\n",
            "Concatenate            type                    <class 'tensorflow.python<...>ayers.merge.Concatenate'>\n",
            "Dense                  type                    <class 'tensorflow.python<...>keras.layers.core.Dense'>\n",
            "EarlyStopping          type                    <class 'tensorflow.python<...>callbacks.EarlyStopping'>\n",
            "Embedding              type                    <class 'tensorflow.python<...>rs.embeddings.Embedding'>\n",
            "Input                  function                <function Input at 0x0000027032C9C0D8>\n",
            "K                      module                  <module 'tensorflow_core.<...>s\\\\backend\\\\__init__.py'>\n",
            "LSTM                   type                    <class 'tensorflow.python<...>ayers.recurrent_v2.LSTM'>\n",
            "Model                  type                    <class 'tensorflow.python<...>s.engine.training.Model'>\n",
            "TimeDistributed        type                    <class 'tensorflow.python<...>rappers.TimeDistributed'>\n",
            "Tokenizer              type                    <class 'keras_preprocessing.text.Tokenizer'>\n",
            "attn_layer             AttentionLayer          <attention.AttentionLayer<...>ct at 0x00000270480A1CC8>\n",
            "attn_out               Tensor                  Tensor(\"attention_layer/I<...>one, 500), dtype=float32)\n",
            "attn_states            Tensor                  Tensor(\"attention_layer/I<...>None, 80), dtype=float32)\n",
            "cleaned_summary        list                    n=88421\n",
            "cleaned_text           list                    n=88421\n",
            "contraction_mapping    dict                    n=120\n",
            "data                   DataFrame                          Id   ProductId<...>[88352 rows x 12 columns]\n",
            "dec_emb                Tensor                  Tensor(\"embedding_1/Ident<...>one, 500), dtype=float32)\n",
            "dec_emb_layer          Embedding               <tensorflow.python.keras.<...>ct at 0x0000027047ED5C48>\n",
            "decoder_back_state     Tensor                  Tensor(\"lstm_3/Identity_2<...>one, 500), dtype=float32)\n",
            "decoder_concat_input   Tensor                  Tensor(\"concat_layer/Iden<...>ne, 1000), dtype=float32)\n",
            "decoder_dense          TimeDistributed         <tensorflow.python.keras.<...>ct at 0x0000027048141408>\n",
            "decoder_fwd_state      Tensor                  Tensor(\"lstm_3/Identity_1<...>one, 500), dtype=float32)\n",
            "decoder_inputs         Tensor                  Tensor(\"input_2:0\", shape<...>ne, None), dtype=float32)\n",
            "decoder_lstm           LSTM                    <tensorflow.python.keras.<...>ct at 0x00000270480625C8>\n",
            "decoder_outputs        Tensor                  Tensor(\"time_distributed/<...>e, 14096), dtype=float32)\n",
            "enc_emb                Tensor                  Tensor(\"embedding/Identit<...> 80, 500), dtype=float32)\n",
            "encoder_inputs         Tensor                  Tensor(\"input_1:0\", shape<...>None, 80), dtype=float32)\n",
            "encoder_lstm1          LSTM                    <tensorflow.python.keras.<...>ct at 0x0000027048CDBD48>\n",
            "encoder_lstm2          LSTM                    <tensorflow.python.keras.<...>ct at 0x0000027048227648>\n",
            "encoder_lstm3          LSTM                    <tensorflow.python.keras.<...>ct at 0x0000027047ED5348>\n",
            "encoder_output1        Tensor                  Tensor(\"lstm/Identity:0\",<...> 80, 500), dtype=float32)\n",
            "encoder_output2        Tensor                  Tensor(\"lstm_1/Identity:0<...> 80, 500), dtype=float32)\n",
            "encoder_outputs        Tensor                  Tensor(\"lstm_2/Identity:0<...> 80, 500), dtype=float32)\n",
            "es                     EarlyStopping           <tensorflow.python.keras.<...>ct at 0x0000027124E7E3C8>\n",
            "history                History                 <tensorflow.python.keras.<...>ct at 0x000002713EC77C48>\n",
            "i                      str                     _START_ this spicy noodle<...>eadache every time  _END_\n",
            "latent_dim             int                     500\n",
            "length_df              DataFrame                      text  summary\\n0  <...>n[88352 rows x 2 columns]\n",
            "max_len_summary        int                     10\n",
            "max_len_text           int                     80\n",
            "model                  Model                   <tensorflow.python.keras.<...>ct at 0x00000270482FFD48>\n",
            "np                     module                  <module 'numpy' from 'e:\\<...>ges\\\\numpy\\\\__init__.py'>\n",
            "pad_sequences          function                <function pad_sequences at 0x0000027035868948>\n",
            "pd                     module                  <module 'pandas' from 'e:<...>es\\\\pandas\\\\__init__.py'>\n",
            "plt                    module                  <module 'matplotlib.pyplo<...>\\\\matplotlib\\\\pyplot.py'>\n",
            "re                     module                  <module 're' from 'C:\\\\Us<...>n\\\\Python37\\\\lib\\\\re.py'>\n",
            "state_c                Tensor                  Tensor(\"lstm_2/Identity_2<...>one, 500), dtype=float32)\n",
            "state_c1               Tensor                  Tensor(\"lstm/Identity_2:0<...>one, 500), dtype=float32)\n",
            "state_c2               Tensor                  Tensor(\"lstm_1/Identity_2<...>one, 500), dtype=float32)\n",
            "state_h                Tensor                  Tensor(\"lstm_2/Identity_1<...>one, 500), dtype=float32)\n",
            "state_h1               Tensor                  Tensor(\"lstm/Identity_1:0<...>one, 500), dtype=float32)\n",
            "state_h2               Tensor                  Tensor(\"lstm_1/Identity_1<...>one, 500), dtype=float32)\n",
            "stop_words             set                     {'will', 'aren', 's', 'ot<...>e', 'is', 'have', 'from'}\n",
            "stopwords              WordListCorpusReader    <WordListCorpusReader in <...>ata\\\\corpora\\\\stopwords'>\n",
            "summary_cleaner        function                <function summary_cleaner at 0x0000027040071AF8>\n",
            "summary_word_count     list                    n=88352\n",
            "t                      str                     This spicy noodle cures m<...> and headache every time!\n",
            "text_cleaner           function                <function text_cleaner at 0x00000270207F25E8>\n",
            "text_word_count        list                    n=88352\n",
            "train_test_split       function                <function train_test_split at 0x0000027038CCA948>\n",
            "warnings               module                  <module 'warnings' from '<...>hon37\\\\lib\\\\warnings.py'>\n",
            "x_tokenizer            Tokenizer               <keras_preprocessing.text<...>ct at 0x0000027040AD4EC8>\n",
            "x_tr                   ndarray                 79516x80: 6361280 elems, type `int32`, 25445120 bytes (24.266357421875 Mb)\n",
            "x_val                  ndarray                 8836x80: 706880 elems, type `int32`, 2827520 bytes (2.696533203125 Mb)\n",
            "x_voc_size             int                     51571\n",
            "y_tokenizer            Tokenizer               <keras_preprocessing.text<...>ct at 0x0000027048CDBE08>\n",
            "y_tr                   ndarray                 79516x10: 795160 elems, type `int32`, 3180640 bytes (3.033294677734375 Mb)\n",
            "y_val                  ndarray                 8836x10: 88360 elems, type `int32`, 353440 bytes (345.15625 kb)\n",
            "y_voc_size             int                     14096\n"
          ]
        }
      ],
      "execution_count": null,
      "metadata": {
        "id": "c3YR3hhmOd5I",
        "outputId": "9dbb8ad5-3972-485e-e2c9-56fb9fab5e70"
      }
    },
    {
      "cell_type": "code",
      "source": [
        "plt.plot(history.history['loss'], label='train') \n",
        "plt.plot(history.history['val_loss'], label='test') \n",
        "plt.legend() \n",
        "plt.show()"
      ],
      "outputs": [
        {
          "output_type": "display_data",
          "data": {
            "image/png": "[encoded data removed]",
            "text/plain": [
              "<Figure size 432x288 with 1 Axes>"
            ]
          },
          "metadata": {
            "needs_background": "light"
          }
        }
      ],
      "execution_count": null,
      "metadata": {
        "id": "N9wrXFFWOd5J",
        "outputId": "b9ad74f7-dcda-4ba4-8ad3-5096ca3bed85"
      }
    },
    {
      "cell_type": "code",
      "source": [
        "reverse_target_word_index = y_tokenizer.index_word \n",
        "reverse_source_word_index = x_tokenizer.index_word \n",
        "target_word_index = y_tokenizer.word_index"
      ],
      "outputs": [],
      "execution_count": null,
      "metadata": {
        "id": "oHLKCiCzOd5J"
      }
    },
    {
      "cell_type": "code",
      "source": [
        "# encoder inference\n",
        "encoder_model = Model(inputs=encoder_inputs,outputs=[encoder_outputs, state_h, state_c])\n",
        "\n",
        "# decoder inference\n",
        "# Below tensors will hold the states of the previous time step\n",
        "decoder_state_input_h = Input(shape=(latent_dim,))\n",
        "decoder_state_input_c = Input(shape=(latent_dim,))\n",
        "decoder_hidden_state_input = Input(shape=(max_len_text,latent_dim))\n",
        "\n",
        "# Get the embeddings of the decoder sequence\n",
        "dec_emb2= dec_emb_layer(decoder_inputs)\n",
        "\n",
        "# To predict the next word in the sequence, set the initial states to the states from the previous time step\n",
        "decoder_outputs2, state_h2, state_c2 = decoder_lstm(dec_emb2, initial_state=[decoder_state_input_h, decoder_state_input_c])\n",
        "\n",
        "#attention inference\n",
        "attn_out_inf, attn_states_inf = attn_layer([decoder_hidden_state_input, decoder_outputs2])\n",
        "decoder_inf_concat = Concatenate(axis=-1, name='concat')([decoder_outputs2, attn_out_inf])\n",
        "\n",
        "# A dense softmax layer to generate prob dist. over the target vocabulary\n",
        "decoder_outputs2 = decoder_dense(decoder_inf_concat)\n",
        "\n",
        "# Final decoder model\n",
        "decoder_model = Model(\n",
        "    [decoder_inputs] + [decoder_hidden_state_input,decoder_state_input_h, decoder_state_input_c],\n",
        "    [decoder_outputs2] + [state_h2, state_c2]\n",
        ")"
      ],
      "outputs": [],
      "execution_count": null,
      "metadata": {
        "id": "RJo7D4qzOd5J"
      }
    },
    {
      "cell_type": "code",
      "source": [
        "def decode_sequence(input_seq):\n",
        "    # Encode the input as state vectors.\n",
        "    e_out, e_h, e_c = encoder_model.predict(input_seq)\n",
        "\n",
        "    # Generate empty target sequence of length 1.\n",
        "    target_seq = np.zeros((1,1))\n",
        "\n",
        "    # Chose the 'start' word as the first word of the target sequence\n",
        "    target_seq[0, 0] = target_word_index['start']\n",
        "\n",
        "    stop_condition = False\n",
        "    decoded_sentence = ''\n",
        "    while not stop_condition:\n",
        "        output_tokens, h, c = decoder_model.predict([target_seq] + [e_out, e_h, e_c])\n",
        "\n",
        "        # Sample a token\n",
        "        try:\n",
        "            sampled_token_index = np.argmax(output_tokens[0, -1, :])\n",
        "            #print(\"sampled_token_index: \",sampled_token_index)\n",
        "            sampled_token = reverse_target_word_index[sampled_token_index]\n",
        "\n",
        "            if(sampled_token!='end'):\n",
        "                decoded_sentence += ' '+sampled_token\n",
        "\n",
        "                # Exit condition: either hit max length or find stop word.\n",
        "                if (sampled_token == 'end' or len(decoded_sentence.split()) >= (max_len_summary-1)):\n",
        "                    stop_condition = True\n",
        "\n",
        "            # Update the target sequence (of length 1).\n",
        "            target_seq = np.zeros((1,1))\n",
        "            target_seq[0, 0] = sampled_token_index\n",
        "\n",
        "            # Update internal states\n",
        "            e_h, e_c = h, c\n",
        "        except KeyError:\n",
        "            break\n",
        "        \n",
        "    return decoded_sentence"
      ],
      "outputs": [],
      "execution_count": null,
      "metadata": {
        "id": "OvXtrT8uOd5J"
      }
    },
    {
      "cell_type": "code",
      "source": [
        "def seq2summary(input_seq):\n",
        "    newString=''\n",
        "    for i in input_seq:\n",
        "      if((i!=0 and i!=target_word_index['start']) and i!=target_word_index['end']):\n",
        "        newString=newString+reverse_target_word_index[i]+' '\n",
        "    return newString\n",
        "\n",
        "def seq2text(input_seq):\n",
        "    newString=''\n",
        "    for i in input_seq:\n",
        "      if(i!=0):\n",
        "        newString=newString+reverse_source_word_index[i]+' '\n",
        "    return newString"
      ],
      "outputs": [],
      "execution_count": null,
      "metadata": {
        "id": "ci6FeOH5Od5J"
      }
    },
    {
      "cell_type": "code",
      "source": [
        "for i in range(len(x_val)):\n",
        "    print(\"Review:\",seq2text(x_val[i]))\n",
        "    print(\"Original summary:\",seq2summary(y_val[i]))\n",
        "    print(\"Predicted summary:\",decode_sequence(x_val[i].reshape(1,max_len_text)))\n",
        "    print(\"\\n\")\n",
        "    if(i==25):\n",
        "        break;"
      ],
      "outputs": [
        {
          "output_type": "stream",
          "name": "stdout",
          "text": [
            "Review: ordered salmon thursday january received january salmon delicious wooden box nice design used store items future \n",
            "Original summary: alaska smokehouse smoked salmon \n",
            "Predicted summary:  great product\n",
            "\n",
            "\n",
            "Review: drank cold could pleased coffee high quality arabica always notice coffee arabica robusta sweet without sweet mean cannot compare major bottled coffee brand reason alone keep fridge work offer people without looking like pushing calories along caffeine long time would stock highly sweetened coffee beverages fridge work noticed people stopped consuming happened around time lost interest level sweetness recommend drink prefer lower level sugar old school arabica coffee types \n",
            "Original summary: it was perfect little sweet without being too sweet \n",
            "Predicted summary:  good coffee but not great\n",
            "\n",
            "\n",
            "Review: variety granola one ranks top favorites crunch granola coconut main taste sweet overly eat snack craving something fills fast satisfies sugar cravings \n",
            "Original summary: great taste \n",
            "Predicted summary:  granola with crunch\n",
            "\n",
            "\n",
            "Review: bought dollar tree yummy taste like french fries crunchy going buy bulk pass kid test \n",
            "Original summary: yum \n",
            "Predicted summary:  great snack\n",
            "\n",
            "\n",
            "Review: used eating flaxseed brownie hodgson mill brownies super easy make taste great since like dark chocolate usually add little cocoa \n",
            "Original summary: delicious brownie \n",
            "Predicted summary:  great for baking\n",
            "\n",
            "\n",
            "Review: picked local grocery store organic brown rice pleasantly surprised cooks really well sticky tastes great typically brown rice lover kind really good kids husband ate asked seconds well delighted see amazon great price subscribe save \n",
            "Original summary: love this rice \n",
            "Predicted summary:  love this rice\n",
            "\n",
            "\n",
            "Review: stuff oily probably could run car takes cup creamer make change black tan ick \n",
            "Original summary: yuk \n",
            "Predicted summary:  great product\n",
            "\n",
            "\n",
            "Review: good concentrate product packaging recyclable good taste rather unripe taste liking \n",
            "Original summary: good not so good \n",
            "Predicted summary:  good product\n",
            "\n",
            "\n",
            "Review: cream instead compare office coffee cafe cube farm definitely matches taste quality easy quick mellow great idea soul wants cup coffee cannot bear brew one two lonely cups big disadvantage instant coffee far concerned serving product abut caffeine compared caffeine brewed cup coffee want caffeine flavored versions product even less caffeine per serving although could tell disadvantage suppose whole house fill sound fragrance brewing coffee choose instant alas still given convenience decency beverage buying little single sticks pretty regularly recommended \n",
            "Original summary: pleasant beverage convenient format \n",
            "Predicted summary:  not bad but not great\n",
            "\n",
            "\n",
            "Review: price right comparison local arts store steal color dark picture pastel red set pink anything reccomended measurement usage delivered bubble wrap package \n",
            "Original summary: red or pink \n",
            "Predicted summary:  great price but\n",
            "\n",
            "\n",
            "Review: crumby grapes sweet enough wine good excuse press bad news things rediscovered many busy helping image culinary california australia everybody getting act thin flabby faux hitting shelves cute backbone courage heavy lifting kitchen might well pour lemonade grilled salmon acidic glory taste alone compare anything might run across vineyards make veritable next try gently fresh really ripe fruit loves swirled beurre blanc whip best cream roasting pan old time gravy nutmeg nice five pepper blend need steamed vegetables tell truth \n",
            "Original summary: the truth in \n",
            "Predicted summary:  the best\n",
            "\n",
            "\n",
            "Review: huge tea fan one favorites think taste subtle honey compliments well next time add lemon slices maybe orange slice yummy \n",
            "Original summary: very nice tea \n",
            "Predicted summary:  great tea\n",
            "\n",
            "\n",
            "Review: price excellent heard many good things kind bars mango macadamia bar taste great would willing try flavors would buy flavor \n",
            "Original summary: they did not taste that great \n",
            "Predicted summary:  good but not great\n",
            "\n",
            "\n",
            "Review: used mcp pectin probably years making freezer jam jam always sets looks tastes perfect hard time finding mcp recently forced try another product making jam last summer jam set unhappy result thrilled find mcp amazon supply last couple years convinced mcp best wish could buy locally grocery store \n",
            "Original summary: mcp is the best \n",
            "Predicted summary:  best ever\n",
            "\n",
            "\n",
            "Review: little guy ate could even write review \n",
            "Original summary: great deal \n",
            "Predicted summary:  not bad\n",
            "\n",
            "\n",
            "Review: like cashews way biased really enjoyed earn name salty though product need eat low sodium rest tasty treat \n",
            "Original summary: tasty treat \n",
            "Predicted summary:  too salty\n",
            "\n",
            "\n",
            "Review: younger prone trying whatever new product came along various benefits seeking seldom ever payoff see advertisement product promising bigger better stronger even consider imagine surprise tried new shampoo actually noticed volume hair blow drying even two people asked would hair cut day used seriously miraculous change shampoo weave definitely makes noticeable difference negative comment fairly strong perfume scent tend avoid soaps shampoos absolutely continue use \n",
            "Original summary: unbelievable literally \n",
            "Predicted summary:  good shampoo\n",
            "\n",
            "\n",
            "Review: item allows convenience safe place emergency funds hides well pantry know whenever need \n",
            "Original summary: safe safe \n",
            "Predicted summary:  good product\n",
            "\n",
            "\n",
            "Review: mostly enjoyed paul newman donut shop ones one day saw count twenty bucks thought hmmm good deal must awful heck try best coffee ever tasted never see searched online hot simply poured ice hands favorite cannot drink constantly recommending people agree hooked also great environmentally packaged bet lack plastic makes taste better cannot lose drink two three cups day sip good first fact going make cup right san francisco bay coffee organic one cup keurig cup brewers rainforest blend count \n",
            "Original summary: best coffee ever \n",
            "Predicted summary:  best cup coffee ever\n",
            "\n",
            "\n",
            "Review: love product fact become addictive time however noticed hard pieces chewing nuts examining closely think somehow shells got nuts shelled made careful bitterness otherwise wonderful flavor also want crack chip tooth hope isolated instance batch \n",
            "Original summary: emerald dry roasted walnuts review \n",
            "Predicted summary:  not what expected\n",
            "\n",
            "\n",
            "Review: reading reviews decided purchase husband husband drinks tea every day prefers stronger blends like one used drink tips tried barry tea prefers barry looking nice strong basic tea look \n",
            "Original summary: my husband favorite everyday tea \n",
            "Predicted summary:  great tea\n",
            "\n",
            "\n",
            "Review: rich man peanut butter cap crunch poor man honey nut cheerios tastes like former looks like latter wife dug one evening hours later demolished peanut except artificial peanut flavor looking sugar brand names satisfy craving nom nom \n",
            "Original summary: sugary nut crunch \n",
            "Predicted summary:  not peanut butter\n",
            "\n",
            "\n",
            "Review: eat gluten free tried almost every type bar available pleasantly surprised got try bar moist delicious tasted like blueberry lemon cookie big bursts blueberries cannot wait try flavors thanks pamela making another great tasting product \n",
            "Original summary: thank goodness \n",
            "Predicted summary:  great tasting\n",
            "\n",
            "\n",
            "Review: great value cut hundreds training treats really works dog food motivated cut roll quarters freeze super easy \n",
            "Original summary: great value \n",
            "Predicted summary:  great value\n",
            "\n",
            "\n",
            "Review: tastes close regular boxed cake mix really good add cup cocoa powder make chocolate cake try adding lemon extract make lemon cake lots possibilities \n",
            "Original summary: great product \n",
            "Predicted summary:  great tasting\n",
            "\n",
            "\n",
            "Review: give rating order make comment really like eden organic beans used many years usually purchased locally available however beans received online source date black beans expiration dates pinto beans expiration dates check dates open cooked one package beans thinking check date thought would even issue since ordering direct going mine old dates know use rest \n",
            "Original summary: supplier is shipping out of date product \n",
            "Predicted summary:  rancid\n",
            "\n",
            "\n"
          ]
        }
      ],
      "execution_count": null,
      "metadata": {
        "id": "qL2ZWgEXOd5J",
        "outputId": "7972edad-0640-47bb-fce4-31eaad386be9"
      }
    }
  ],
  "metadata": {
    "kernelspec": {
      "display_name": "Python 3",
      "language": "python",
      "name": "python3"
    },
    "language_info": {
      "name": "python",
      "version": "3.7.6",
      "mimetype": "text/x-python",
      "codemirror_mode": {
        "name": "ipython",
        "version": 3
      },
      "pygments_lexer": "ipython3",
      "nbconvert_exporter": "python",
      "file_extension": ".py"
    },
    "nteract": {
      "version": "0.21.0"
    },
    "colab": {
      "provenance": []
    }
  },
  "nbformat": 4,
  "nbformat_minor": 0
}