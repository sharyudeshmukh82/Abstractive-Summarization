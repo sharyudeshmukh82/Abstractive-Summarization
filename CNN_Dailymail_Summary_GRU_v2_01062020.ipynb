{
  "nbformat": 4,
  "nbformat_minor": 0,
  "metadata": {
    "kernelspec": {
      "name": "python3",
      "display_name": "Python 3"
    },
    "language_info": {
      "codemirror_mode": {
        "name": "ipython",
        "version": 3
      },
      "file_extension": ".py",
      "mimetype": "text/x-python",
      "name": "python",
      "nbconvert_exporter": "python",
      "pygments_lexer": "ipython3",
      "version": "3.7.6"
    },
    "nteract": {
      "version": "0.21.0"
    },
    "toc": {
      "base_numbering": 1,
      "nav_menu": {},
      "number_sections": true,
      "sideBar": true,
      "skip_h1_title": false,
      "title_cell": "Table of Contents",
      "title_sidebar": "Contents",
      "toc_cell": false,
      "toc_position": {},
      "toc_section_display": true,
      "toc_window_display": false
    },
    "varInspector": {
      "cols": {
        "lenName": 16,
        "lenType": 16,
        "lenVar": 40
      },
      "kernels_config": {
        "python": {
          "delete_cmd_postfix": "",
          "delete_cmd_prefix": "del ",
          "library": "var_list.py",
          "varRefreshCmd": "print(var_dic_list())"
        },
        "r": {
          "delete_cmd_postfix": ") ",
          "delete_cmd_prefix": "rm(",
          "library": "var_list.r",
          "varRefreshCmd": "cat(var_dic_list()) "
        }
      },
      "types_to_exclude": [
        "module",
        "function",
        "builtin_function_or_method",
        "instance",
        "_Feature"
      ],
      "window_display": false
    },
    "colab": {
      "provenance": [],
      "collapsed_sections": []
    },
    "accelerator": "GPU"
  },
  "cells": [
    {
      "cell_type": "code",
      "metadata": {
        "id": "0zqILxk4vA1T",
        "colab": {
          "base_uri": "https://localhost:8080/",
          "height": 120
        },
        "outputId": "2c8966b4-f125-4315-bad1-61332214f7da"
      },
      "source": [
        "from google.colab import drive\n",
        "drive.mount('/content/drive')"
      ],
      "execution_count": null,
      "outputs": [
        {
          "output_type": "stream",
          "text": [
            "Go to this URL in a browser: https://accounts.google.com/o/oauth2/auth?client_id=947318989803-6bn6qk8qdgf4n4g3pfee6491hc0brc4i.apps.googleusercontent.com&redirect_uri=urn%3aietf%3awg%3aoauth%3a2.0%3aoob&response_type=code&scope=email%20https%3a%2f%2fwww.googleapis.com%2fauth%2fdocs.test%20https%3a%2f%2fwww.googleapis.com%2fauth%2fdrive%20https%3a%2f%2fwww.googleapis.com%2fauth%2fdrive.photos.readonly%20https%3a%2f%2fwww.googleapis.com%2fauth%2fpeopleapi.readonly\n",
            "\n",
            "Enter your authorization code:\n",
            "··········\n",
            "Mounted at /content/drive\n"
          ],
          "name": "stdout"
        }
      ]
    },
    {
      "cell_type": "code",
      "metadata": {
        "id": "WdAOqkFvZ-1d"
      },
      "source": [
        "%tensorflow_version 2.x\n",
        "#for importing other python files\n",
        "import sys\n",
        "sys.path.append('/content/drive/My Drive/Colab Notebooks/Final Models/CNN-Dailymail Seq2Seq GRU with Attention/')\n",
        "from attention import AttentionLayer"
      ],
      "execution_count": null,
      "outputs": []
    },
    {
      "cell_type": "code",
      "metadata": {
        "id": "tXv1Nr1dZ12Z",
        "colab": {
          "base_uri": "https://localhost:8080/",
          "height": 67
        },
        "outputId": "84f1ec0c-05c3-4978-8748-5aaf977af143"
      },
      "source": [
        "import numpy as np\n",
        "import pandas as pd\n",
        "import matplotlib.pyplot as plt\n",
        "import re\n",
        "import random\n",
        "import math\n",
        "import time\n",
        "import pickle\n",
        "# from bs4 import BeautifulSoup\n",
        "\n",
        "import torch\n",
        "import tensorflow as tf\n",
        "from tensorflow.keras.preprocessing.text import Tokenizer\n",
        "from tensorflow.keras.preprocessing.sequence import pad_sequences\n",
        "import nltk\n",
        "nltk.download('stopwords')\n",
        "from nltk.corpus import stopwords\n",
        "\n",
        "from tensorflow.keras.models import Model\n",
        "from tensorflow.keras.layers import Input, GRU, Embedding, Dense, Concatenate, TimeDistributed, Bidirectional\n",
        "from tensorflow.keras.callbacks import EarlyStopping\n",
        "\n",
        "device = torch.device('cuda' if torch.cuda.is_available() else 'cpu')\n",
        "if(device.type == 'cuda'):\n",
        "    print(f'GPU available: {torch.cuda.get_device_name()}')\n",
        "else:\n",
        "    print(f'Using CPU: {device.type}')"
      ],
      "execution_count": null,
      "outputs": [
        {
          "output_type": "stream",
          "text": [
            "[nltk_data] Downloading package stopwords to /root/nltk_data...\n",
            "[nltk_data]   Unzipping corpora/stopwords.zip.\n",
            "GPU available: Tesla P100-PCIE-16GB\n"
          ],
          "name": "stdout"
        }
      ]
    },
    {
      "cell_type": "code",
      "metadata": {
        "id": "T76jqj-Vu1bQ"
      },
      "source": [
        "SEED = 2020\n",
        "random.seed(SEED)\n",
        "np.random.seed(SEED)\n",
        "torch.manual_seed(SEED)\n",
        "torch.cuda.manual_seed(SEED)\n",
        "torch.backends.cudnn.deterministic = True"
      ],
      "execution_count": null,
      "outputs": []
    },
    {
      "cell_type": "code",
      "metadata": {
        "id": "ckr0lW3Gu2W0"
      },
      "source": [
        "# !ln -sf /opt/bin/nvidia-smi /usr/bin/nvidia-smi\n",
        "# !pip install gputil\n",
        "# !pip install psutil\n",
        "# !pip install humanize\n",
        "\n",
        "# import psutil\n",
        "# import humanize\n",
        "# import os\n",
        "# import GPUtil as GPU\n",
        "# GPUs = GPU.getGPUs()\n",
        "\n",
        "# # XXX: only one GPU on Colab and isn’t guaranteed\n",
        "# gpu = GPUs[0]\n",
        "# def printm():\n",
        "#   process = psutil.Process(os.getpid())\n",
        "#   print(\"Gen RAM Free: \" + humanize.naturalsize( psutil.virtual_memory().available ), \" | Proc size: \" + humanize.naturalsize( process.memory_info().rss))\n",
        "#   print(\"GPU RAM Free: {0:.0f}MB | Used: {1:.0f}MB | Util {2:3.0f}% | Total {3:.0f}MB\".format(gpu.memoryFree, gpu.memoryUsed, gpu.memoryUtil*100, gpu.memoryTotal))\n",
        "\n",
        "# printm()"
      ],
      "execution_count": null,
      "outputs": []
    },
    {
      "cell_type": "code",
      "metadata": {
        "id": "yjYoaSFDZ120"
      },
      "source": [
        "# data = torch.load('/content/drive/My Drive/Colab Notebooks/data/cnn dailymail/cnn_dailymail_train')"
      ],
      "execution_count": null,
      "outputs": []
    },
    {
      "cell_type": "code",
      "metadata": {
        "id": "HZ9R9VKXHcup"
      },
      "source": [
        "# data['article'] = data['article'].str.decode('utf-8')\n",
        "# data['summary'] = data['summary'].str.decode('utf-8')"
      ],
      "execution_count": null,
      "outputs": []
    },
    {
      "cell_type": "code",
      "metadata": {
        "id": "ZX80e-tMa1Fq"
      },
      "source": [
        "# data"
      ],
      "execution_count": null,
      "outputs": []
    },
    {
      "cell_type": "code",
      "metadata": {
        "id": "MzhaVEkxZ126"
      },
      "source": [
        "# data.drop_duplicates(subset=['article'],inplace=True)  #dropping duplicates\n",
        "# data.dropna(axis=0,inplace=True)   #dropping na\n",
        "# print(len(data))"
      ],
      "execution_count": null,
      "outputs": []
    },
    {
      "cell_type": "code",
      "metadata": {
        "id": "NrVDK_qIZ13A"
      },
      "source": [
        "# contraction_mapping = {\"ain't\": \"is not\", \"aren't\": \"are not\",\"can't\": \"cannot\", \"'cause\": \"because\", \"could've\": \"could have\", \"couldn't\": \"could not\",\n",
        "\n",
        "#                            \"didn't\": \"did not\", \"doesn't\": \"does not\", \"don't\": \"do not\", \"hadn't\": \"had not\", \"hasn't\": \"has not\", \"haven't\": \"have not\",\n",
        "\n",
        "#                            \"he'd\": \"he would\",\"he'll\": \"he will\", \"he's\": \"he is\", \"how'd\": \"how did\", \"how'd'y\": \"how do you\", \"how'll\": \"how will\", \"how's\": \"how is\",\n",
        "\n",
        "#                            \"I'd\": \"I would\", \"I'd've\": \"I would have\", \"I'll\": \"I will\", \"I'll've\": \"I will have\",\"I'm\": \"I am\", \"I've\": \"I have\", \"i'd\": \"i would\",\n",
        "\n",
        "#                            \"i'd've\": \"i would have\", \"i'll\": \"i will\",  \"i'll've\": \"i will have\",\"i'm\": \"i am\", \"i've\": \"i have\", \"isn't\": \"is not\", \"it'd\": \"it would\",\n",
        "\n",
        "#                            \"it'd've\": \"it would have\", \"it'll\": \"it will\", \"it'll've\": \"it will have\",\"it's\": \"it is\", \"let's\": \"let us\", \"ma'am\": \"madam\",\n",
        "\n",
        "#                            \"mayn't\": \"may not\", \"might've\": \"might have\",\"mightn't\": \"might not\",\"mightn't've\": \"might not have\", \"must've\": \"must have\",\n",
        "\n",
        "#                            \"mustn't\": \"must not\", \"mustn't've\": \"must not have\", \"needn't\": \"need not\", \"needn't've\": \"need not have\",\"o'clock\": \"of the clock\",\n",
        "\n",
        "#                            \"oughtn't\": \"ought not\", \"oughtn't've\": \"ought not have\", \"shan't\": \"shall not\", \"sha'n't\": \"shall not\", \"shan't've\": \"shall not have\",\n",
        "\n",
        "#                            \"she'd\": \"she would\", \"she'd've\": \"she would have\", \"she'll\": \"she will\", \"she'll've\": \"she will have\", \"she's\": \"she is\",\n",
        "\n",
        "#                            \"should've\": \"should have\", \"shouldn't\": \"should not\", \"shouldn't've\": \"should not have\", \"so've\": \"so have\",\"so's\": \"so as\",\n",
        "\n",
        "#                            \"this's\": \"this is\",\"that'd\": \"that would\", \"that'd've\": \"that would have\", \"that's\": \"that is\", \"there'd\": \"there would\",\n",
        "\n",
        "#                            \"there'd've\": \"there would have\", \"there's\": \"there is\", \"here's\": \"here is\",\"they'd\": \"they would\", \"they'd've\": \"they would have\",\n",
        "\n",
        "#                            \"they'll\": \"they will\", \"they'll've\": \"they will have\", \"they're\": \"they are\", \"they've\": \"they have\", \"to've\": \"to have\",\n",
        "\n",
        "#                            \"wasn't\": \"was not\", \"we'd\": \"we would\", \"we'd've\": \"we would have\", \"we'll\": \"we will\", \"we'll've\": \"we will have\", \"we're\": \"we are\",\n",
        "\n",
        "#                            \"we've\": \"we have\", \"weren't\": \"were not\", \"what'll\": \"what will\", \"what'll've\": \"what will have\", \"what're\": \"what are\",\n",
        "\n",
        "#                            \"what's\": \"what is\", \"what've\": \"what have\", \"when's\": \"when is\", \"when've\": \"when have\", \"where'd\": \"where did\", \"where's\": \"where is\",\n",
        "\n",
        "#                            \"where've\": \"where have\", \"who'll\": \"who will\", \"who'll've\": \"who will have\", \"who's\": \"who is\", \"who've\": \"who have\",\n",
        "\n",
        "#                            \"why's\": \"why is\", \"why've\": \"why have\", \"will've\": \"will have\", \"won't\": \"will not\", \"won't've\": \"will not have\",\n",
        "\n",
        "#                            \"would've\": \"would have\", \"wouldn't\": \"would not\", \"wouldn't've\": \"would not have\", \"y'all\": \"you all\",\n",
        "\n",
        "#                            \"y'all'd\": \"you all would\",\"y'all'd've\": \"you all would have\",\"y'all're\": \"you all are\",\"y'all've\": \"you all have\",\n",
        "\n",
        "#                            \"you'd\": \"you would\", \"you'd've\": \"you would have\", \"you'll\": \"you will\", \"you'll've\": \"you will have\",\n",
        "\n",
        "#                            \"you're\": \"you are\", \"you've\": \"you have\"}\n",
        "\n",
        "\n",
        "# stop_words = set(stopwords.words('english'))\n",
        "\n",
        "# def text_cleaner(text):\n",
        "#     newString = text.lower()\n",
        "#     # newString = BeautifulSoup(newString, \"lxml\").text\n",
        "#     # newString = re.sub(r'\\([^()]*\\)', '', newString) #removes text inside parenthesis\n",
        "#     # newString = re.sub('\"','', newString) # no use\n",
        "#     newString = ' '.join([contraction_mapping[t] if t in contraction_mapping else t for t in newString.split(\" \")])\n",
        "#     newString = re.sub(r\"'s\\b\",\"\",newString) # detects word boundary\n",
        "#     newString = re.sub(\"[^0-9a-zA-Z%]\", \" \", newString)\n",
        "#     tokens = [w for w in newString.split() if not w in stop_words] #removing STOPWORDS\n",
        "#     tokens = newString.split()\n",
        "#     long_words=[]\n",
        "#     for i in tokens:\n",
        "#         if len(i)>1:                  #removing short word\n",
        "#             long_words.append(i)\n",
        "#     return (\" \".join(long_words)).strip()\n"
      ],
      "execution_count": null,
      "outputs": []
    },
    {
      "cell_type": "code",
      "metadata": {
        "id": "puF5N71w0YKp"
      },
      "source": [
        "# cleaned_article = []\n",
        "# cleaned_summary = []\n",
        "# for i,t in enumerate(zip(data['article'],data['summary'])):\n",
        "#     if(i%10000 == 0):\n",
        "#         print(i)\n",
        "#     cleaned_article.append(text_cleaner(t[0]))\n",
        "#     cleaned_summary.append(text_cleaner(t[1]))\n",
        "\n",
        "# data['cleaned_article'] = cleaned_article\n",
        "# data['cleaned_summary'] = cleaned_summary\n",
        "# data['cleaned_summary'].replace('', np.nan, inplace=True)\n",
        "# data.dropna(axis=0,inplace=True)\n",
        "# data.info()"
      ],
      "execution_count": null,
      "outputs": []
    },
    {
      "cell_type": "code",
      "metadata": {
        "id": "qtTbr84EZ14e"
      },
      "source": [
        "# data['cleaned_summary'] = data['cleaned_summary'].apply(lambda x : '_START_ '+ x + ' _END_')"
      ],
      "execution_count": null,
      "outputs": []
    },
    {
      "cell_type": "code",
      "metadata": {
        "id": "9pKDId-dZ14g"
      },
      "source": [
        "# data['cleaned_summary'][0], data['cleaned_article'][0]"
      ],
      "execution_count": null,
      "outputs": []
    },
    {
      "cell_type": "code",
      "metadata": {
        "id": "SaZnCtYwZ14s"
      },
      "source": [
        "# for i in range(5):\n",
        "#     print(\"Review:\",data['cleaned_article'][i])\n",
        "#     print(\"Summary:\",data['cleaned_summary'][i])\n",
        "#     print(\"\\n\")"
      ],
      "execution_count": null,
      "outputs": []
    },
    {
      "cell_type": "code",
      "metadata": {
        "id": "dXhLeChrZ14w"
      },
      "source": [
        "# text_word_count = []\n",
        "# summary_word_count = []\n",
        "\n",
        "# # populate the lists with sentence lengths\n",
        "# for i in data['cleaned_article']:\n",
        "#       text_word_count.append(len(i.split()))\n",
        "\n",
        "# for i in data['cleaned_summary']:\n",
        "#       summary_word_count.append(len(i.split()))\n",
        "\n",
        "# #length_df = pd.DataFrame({'text':text_word_count,'summary':summary_word_count})\n",
        "# #length_df.hist(bins = 25)\n",
        "# #plt.show()\n",
        "# #An \"interface\" to matplotlib.axes.Axes.hist() method\n",
        "# plt.hist(x=text_word_count, bins=50, color='#0504aa')\n",
        "# plt.grid(axis='y', alpha=0.75)\n",
        "# plt.xlabel('Value')\n",
        "# plt.ylabel('Frequency')\n",
        "# plt.title('text Word Count')\n",
        "# plt.show()"
      ],
      "execution_count": null,
      "outputs": []
    },
    {
      "cell_type": "code",
      "metadata": {
        "id": "ex1m4_RWZ140"
      },
      "source": [
        "# plt.hist(x=summary_word_count, bins='auto', color='#0504aa')\n",
        "# plt.grid(axis='y', alpha=0.75)\n",
        "# plt.xlabel('Value')\n",
        "# plt.ylabel('Frequency')\n",
        "# plt.title('text Word Count')\n",
        "# plt.show()"
      ],
      "execution_count": null,
      "outputs": []
    },
    {
      "cell_type": "code",
      "metadata": {
        "id": "r_FNxZtYZ144"
      },
      "source": [
        "max_len_text=1000\n",
        "max_len_summary=200"
      ],
      "execution_count": null,
      "outputs": []
    },
    {
      "cell_type": "code",
      "metadata": {
        "id": "wQ6TEs7yZ147"
      },
      "source": [
        "# from sklearn.model_selection import train_test_split\n",
        "# x_tr,x_val,y_tr,y_val = train_test_split(data['cleaned_article'],data['cleaned_summary'],test_size=0.2,random_state=0,shuffle=True) "
      ],
      "execution_count": null,
      "outputs": []
    },
    {
      "cell_type": "code",
      "metadata": {
        "id": "4IHk6hCVZ14-"
      },
      "source": [
        "# #prepare a tokenizer for reviews on training data\n",
        "# x_tokenizer = Tokenizer(num_words=100000)\n",
        "# x_tokenizer.fit_on_texts(list(x_tr))\n",
        "\n",
        "# #convert text sequences into integer sequences\n",
        "# x_tr    =   x_tokenizer.texts_to_sequences(x_tr) \n",
        "# x_val   =   x_tokenizer.texts_to_sequences(x_val)\n",
        "\n",
        "# #padding zero upto maximum length\n",
        "# x_tr    =   pad_sequences(x_tr,  maxlen=max_len_text, padding='post') \n",
        "# x_val   =   pad_sequences(x_val, maxlen=max_len_text, padding='post')\n",
        "\n",
        "# # x_voc_size   =  len(x_tokenizer.word_index) +1"
      ],
      "execution_count": null,
      "outputs": []
    },
    {
      "cell_type": "code",
      "metadata": {
        "id": "vkxcQILQOsIZ"
      },
      "source": [
        "x_voc_size = 100001"
      ],
      "execution_count": null,
      "outputs": []
    },
    {
      "cell_type": "code",
      "metadata": {
        "id": "LyxHTNwvNyQ1"
      },
      "source": [
        "# torch.save(x_tokenizer,'/content/drive/My Drive/Colab Notebooks/Final Models/CNN-Dailymail Seq2Seq GRU with Attention/x_tokenizer')\n",
        "# torch.save(x_tr,'/content/drive/My Drive/Colab Notebooks/Final Models/CNN-Dailymail Seq2Seq GRU with Attention/x_tr')\n",
        "# torch.save(x_val,'/content/drive/My Drive/Colab Notebooks/Final Models/CNN-Dailymail Seq2Seq GRU with Attention/x_val')"
      ],
      "execution_count": null,
      "outputs": []
    },
    {
      "cell_type": "code",
      "metadata": {
        "id": "2WCWw5ATZ15B"
      },
      "source": [
        "# #preparing a tokenizer for summary on training data \n",
        "# y_tokenizer = Tokenizer(num_words=50000)\n",
        "# y_tokenizer.fit_on_texts(list(y_tr))\n",
        "\n",
        "# #convert summary sequences into integer sequences\n",
        "# y_tr    =   y_tokenizer.texts_to_sequences(y_tr) \n",
        "# y_val   =   y_tokenizer.texts_to_sequences(y_val) \n",
        "\n",
        "# #padding zero upto maximum length\n",
        "# y_tr    =   pad_sequences(y_tr, maxlen=max_len_summary, padding='post')\n",
        "# y_val   =   pad_sequences(y_val, maxlen=max_len_summary, padding='post')\n",
        "\n",
        "# # y_voc_size  =   len(y_tokenizer.word_index) +1"
      ],
      "execution_count": null,
      "outputs": []
    },
    {
      "cell_type": "code",
      "metadata": {
        "id": "nG4kyymtZ15D"
      },
      "source": [
        "y_voc_size = 50001"
      ],
      "execution_count": null,
      "outputs": []
    },
    {
      "cell_type": "code",
      "metadata": {
        "id": "049n9WRLNddz"
      },
      "source": [
        "# torch.save(y_tokenizer,'/content/drive/My Drive/Colab Notebooks/Final Models/CNN-Dailymail Seq2Seq GRU with Attention/y_tokenizer')\n",
        "# torch.save(y_tr,'/content/drive/My Drive/Colab Notebooks/Final Models/CNN-Dailymail Seq2Seq GRU with Attention/y_tr')\n",
        "# torch.save(y_val,'/content/drive/My Drive/Colab Notebooks/Final Models/CNN-Dailymail Seq2Seq GRU with Attention/y_val')"
      ],
      "execution_count": null,
      "outputs": []
    },
    {
      "cell_type": "code",
      "metadata": {
        "id": "tvshX3xoNE1D"
      },
      "source": [
        "x_tokenizer = torch.load('/content/drive/My Drive/Colab Notebooks/Final Models/CNN-Dailymail Seq2Seq GRU with Attention/x_tokenizer')\n",
        "x_tr = torch.load('/content/drive/My Drive/Colab Notebooks/Final Models/CNN-Dailymail Seq2Seq GRU with Attention/x_tr')\n",
        "x_val = torch.load('/content/drive/My Drive/Colab Notebooks/Final Models/CNN-Dailymail Seq2Seq GRU with Attention/x_val')\n",
        "\n",
        "y_tokenizer = torch.load('/content/drive/My Drive/Colab Notebooks/Final Models/CNN-Dailymail Seq2Seq GRU with Attention/y_tokenizer')\n",
        "y_tr = torch.load('/content/drive/My Drive/Colab Notebooks/Final Models/CNN-Dailymail Seq2Seq GRU with Attention/y_tr')\n",
        "y_val = torch.load('/content/drive/My Drive/Colab Notebooks/Final Models/CNN-Dailymail Seq2Seq GRU with Attention/y_val')"
      ],
      "execution_count": null,
      "outputs": []
    },
    {
      "cell_type": "code",
      "metadata": {
        "id": "vgynugjYZ15G",
        "colab": {
          "base_uri": "https://localhost:8080/",
          "height": 568
        },
        "outputId": "b79eb933-0dca-4039-e070-b00bf572f8ec"
      },
      "source": [
        "from tensorflow.keras import backend as K \n",
        "K.clear_session() \n",
        "latent_dim = 300 \n",
        "\n",
        "# Encoder \n",
        "encoder_inputs = Input(shape=(max_len_text,)) \n",
        "enc_emb = Embedding(x_voc_size, latent_dim,trainable=True)(encoder_inputs) \n",
        "\n",
        "#GRU 1 \n",
        "encoder_gru1 = GRU(latent_dim, return_sequences=True, return_state=True, dropout=0.4) \n",
        "encoder_output1, state_h1 = encoder_gru1(enc_emb) \n",
        "\n",
        "#GRU 2 \n",
        "encoder_gru2 = GRU(latent_dim, return_sequences=True, return_state=True, dropout=0.4) \n",
        "encoder_output2, state_h2 = encoder_gru2(encoder_output1) \n",
        "\n",
        "#GRU 3 \n",
        "encoder_gru3 = GRU(latent_dim, return_state=True, return_sequences=True) \n",
        "encoder_outputs, state_h = encoder_gru3(encoder_output2) \n",
        "\n",
        "# Set up the decoder. \n",
        "decoder_inputs = Input(shape=(None,)) \n",
        "dec_emb_layer = Embedding(y_voc_size, latent_dim,trainable=True) \n",
        "dec_emb = dec_emb_layer(decoder_inputs) \n",
        "\n",
        "#GRU using encoder_states as initial state\n",
        "decoder_gru = GRU(latent_dim, return_sequences=True, return_state=True) \n",
        "decoder_outputs, decoder_fwd_state = decoder_gru(dec_emb, initial_state=state_h) \n",
        "\n",
        "#Attention Layer\n",
        "attn_layer = AttentionLayer(name='attention_layer') \n",
        "attn_out, attn_states = attn_layer([encoder_outputs, decoder_outputs]) \n",
        "\n",
        "# Concat attention output and decoder GRU output \n",
        "decoder_concat_input = Concatenate(axis=-1, name='concat_layer')([decoder_outputs, attn_out])\n",
        "\n",
        "#Dense layer\n",
        "decoder_dense = TimeDistributed(Dense(y_voc_size, activation='softmax')) \n",
        "decoder_outputs = decoder_dense(decoder_concat_input) \n",
        "\n",
        "# Define the model\n",
        "model = Model([encoder_inputs, decoder_inputs], decoder_outputs) \n",
        "model.summary()"
      ],
      "execution_count": null,
      "outputs": [
        {
          "output_type": "stream",
          "text": [
            "Model: \"model\"\n",
            "__________________________________________________________________________________________________\n",
            "Layer (type)                    Output Shape         Param #     Connected to                     \n",
            "==================================================================================================\n",
            "input_1 (InputLayer)            [(None, 1000)]       0                                            \n",
            "__________________________________________________________________________________________________\n",
            "embedding (Embedding)           (None, 1000, 300)    30000300    input_1[0][0]                    \n",
            "__________________________________________________________________________________________________\n",
            "gru (GRU)                       [(None, 1000, 300),  541800      embedding[0][0]                  \n",
            "__________________________________________________________________________________________________\n",
            "input_2 (InputLayer)            [(None, None)]       0                                            \n",
            "__________________________________________________________________________________________________\n",
            "gru_1 (GRU)                     [(None, 1000, 300),  541800      gru[0][0]                        \n",
            "__________________________________________________________________________________________________\n",
            "embedding_1 (Embedding)         (None, None, 300)    15000300    input_2[0][0]                    \n",
            "__________________________________________________________________________________________________\n",
            "gru_2 (GRU)                     [(None, 1000, 300),  541800      gru_1[0][0]                      \n",
            "__________________________________________________________________________________________________\n",
            "gru_3 (GRU)                     [(None, None, 300),  541800      embedding_1[0][0]                \n",
            "                                                                 gru_2[0][1]                      \n",
            "__________________________________________________________________________________________________\n",
            "attention_layer (AttentionLayer ((None, None, 300),  180300      gru_2[0][0]                      \n",
            "                                                                 gru_3[0][0]                      \n",
            "__________________________________________________________________________________________________\n",
            "concat_layer (Concatenate)      (None, None, 600)    0           gru_3[0][0]                      \n",
            "                                                                 attention_layer[0][0]            \n",
            "__________________________________________________________________________________________________\n",
            "time_distributed (TimeDistribut (None, None, 50001)  30050601    concat_layer[0][0]               \n",
            "==================================================================================================\n",
            "Total params: 77,398,701\n",
            "Trainable params: 77,398,701\n",
            "Non-trainable params: 0\n",
            "__________________________________________________________________________________________________\n"
          ],
          "name": "stdout"
        }
      ]
    },
    {
      "cell_type": "code",
      "metadata": {
        "id": "UFEoid2bveSw"
      },
      "source": [
        "class CustomSchedule(tf.keras.optimizers.schedules.LearningRateSchedule):\n",
        "  def __init__(self, d_model, warmup_steps=3500):\n",
        "    super(CustomSchedule, self).__init__()\n",
        "    \n",
        "    self.d_model = d_model\n",
        "    self.d_model = tf.cast(self.d_model, tf.float32)\n",
        "\n",
        "    self.warmup_steps = warmup_steps\n",
        "    \n",
        "  def __call__(self, step):\n",
        "    arg1 = tf.math.rsqrt(step)\n",
        "    arg2 = step * (self.warmup_steps ** -1.5)\n",
        "    \n",
        "    return tf.math.rsqrt(self.d_model) * tf.math.minimum(arg1, arg2)"
      ],
      "execution_count": null,
      "outputs": []
    },
    {
      "cell_type": "code",
      "metadata": {
        "id": "RXoUV1lHW4Nn"
      },
      "source": [
        "learning_rate = CustomSchedule(1000)\n",
        "\n",
        "optimizer = tf.keras.optimizers.Adam(\n",
        "    learning_rate, beta_1=0.9, beta_2=0.999, epsilon=1e-07, amsgrad=False, name='Adam'\n",
        ")\n",
        "# import tensorflow_addons as tfa\n",
        "# optimizer = tfa.optimizers.AdamW(\n",
        "#     weight_decay = 1e-04,\n",
        "#     learning_rate = 0.01, beta_1=0.9, beta_2=0.999, epsilon=1e-07, amsgrad=False, name='AdamW'\n",
        "# )"
      ],
      "execution_count": null,
      "outputs": []
    },
    {
      "cell_type": "code",
      "metadata": {
        "id": "e05mK8k-vnUx",
        "colab": {
          "base_uri": "https://localhost:8080/",
          "height": 296
        },
        "outputId": "21a9d6a1-824c-48ba-b449-d3b650a45dd9"
      },
      "source": [
        "temp_learning_rate_schedule = CustomSchedule(1000)\n",
        "\n",
        "plt.plot(temp_learning_rate_schedule(tf.range(7000, dtype=tf.float32)))\n",
        "plt.ylabel(\"Learning Rate\")\n",
        "plt.xlabel(\"Train Step\")"
      ],
      "execution_count": null,
      "outputs": [
        {
          "output_type": "execute_result",
          "data": {
            "text/plain": [
              "Text(0.5, 0, 'Train Step')"
            ]
          },
          "metadata": {
            "tags": []
          },
          "execution_count": 21
        },
        {
          "output_type": "display_data",
          "data": {
            "image/png": "[encoded data removed]",
            "text/plain": [
              "<Figure size 432x288 with 1 Axes>"
            ]
          },
          "metadata": {
            "tags": [],
            "needs_background": "light"
          }
        }
      ]
    },
    {
      "cell_type": "code",
      "metadata": {
        "id": "RvJL-6cTZ15L"
      },
      "source": [
        "model.compile(optimizer, loss='sparse_categorical_crossentropy')"
      ],
      "execution_count": null,
      "outputs": []
    },
    {
      "cell_type": "code",
      "metadata": {
        "id": "S4EZt_i3Z15O"
      },
      "source": [
        "es = EarlyStopping(monitor='val_loss', mode='min', verbose=1)"
      ],
      "execution_count": null,
      "outputs": []
    },
    {
      "cell_type": "code",
      "metadata": {
        "id": "8y4jqQDnMKF4"
      },
      "source": [
        "# def decay(epoch):\n",
        "#   if epoch <= 2:\n",
        "#     return 1e-03\n",
        "#   else:\n",
        "#     return 1e-04\n",
        "\n",
        "# lr_callback = tf.keras.callbacks.LearningRateScheduler(decay)"
      ],
      "execution_count": null,
      "outputs": []
    },
    {
      "cell_type": "code",
      "metadata": {
        "id": "VZEZ1RV3M4gd"
      },
      "source": [
        "# # Callback for printing the LR at the end of each epoch.\n",
        "# class PrintLR(tf.keras.callbacks.Callback):\n",
        "#   def on_epoch_end(self, epoch, logs=None):\n",
        "#     print('\\nLearning rate for epoch {} is {}'.format(epoch + 1, model.optimizer.lr)"
      ],
      "execution_count": null,
      "outputs": []
    },
    {
      "cell_type": "code",
      "metadata": {
        "id": "fl2nij8HYrzN"
      },
      "source": [
        "# import datetime\n",
        "\n",
        "# todays_date = datetime.date.today()\n",
        "# print(todays_date)\n",
        "\n",
        "# # adding strftime will remove the seconds\n",
        "# current_time = datetime.datetime.now().strftime('%H:%M')\n",
        "# print(current_time)"
      ],
      "execution_count": null,
      "outputs": []
    },
    {
      "cell_type": "code",
      "metadata": {
        "id": "MtI00yJtPe-f"
      },
      "source": [
        "checkpoint_path = \"/content/drive/My Drive/Colab Notebooks/Final Models/CNN-Dailymail Seq2Seq GRU v2 with Attention/cp-{epoch:02d}.ckpt\"\n",
        "# Create a callback that saves the model's weights every 5 epochs\n",
        "cp_callback = tf.keras.callbacks.ModelCheckpoint(\n",
        "    filepath=checkpoint_path, \n",
        "    verbose=1, \n",
        "    save_weights_only=True,\n",
        "    save_best_only = True,\n",
        "    save_freq='epoch'\n",
        ")"
      ],
      "execution_count": null,
      "outputs": []
    },
    {
      "cell_type": "code",
      "metadata": {
        "id": "YbivzkTfrDsx",
        "colab": {
          "base_uri": "https://localhost:8080/",
          "height": 33
        },
        "outputId": "4e6cace8-5048-4325-cc81-27b893a20f18"
      },
      "source": [
        "checkpoint_dir = '/content/drive/My Drive/Colab Notebooks/Final Models/CNN-Dailymail Seq2Seq GRU v2 with Attention/'\n",
        "latest_checkpoint = tf.train.latest_checkpoint(checkpoint_dir)\n",
        "print(latest_checkpoint)"
      ],
      "execution_count": null,
      "outputs": [
        {
          "output_type": "stream",
          "text": [
            "/content/drive/My Drive/Colab Notebooks/Final Models/CNN-Dailymail Seq2Seq GRU v2 with Attention/cp-01.ckpt\n"
          ],
          "name": "stdout"
        }
      ]
    },
    {
      "cell_type": "code",
      "metadata": {
        "id": "rOn3kOdfqWqG",
        "colab": {
          "base_uri": "https://localhost:8080/",
          "height": 33
        },
        "outputId": "84ce530b-f6b5-4ba4-a0f4-6d0294822a23"
      },
      "source": [
        "model.load_weights(latest_checkpoint)"
      ],
      "execution_count": null,
      "outputs": [
        {
          "output_type": "execute_result",
          "data": {
            "text/plain": [
              "<tensorflow.python.training.tracking.util.CheckpointLoadStatus at 0x7f431842ff28>"
            ]
          },
          "metadata": {
            "tags": []
          },
          "execution_count": 29
        }
      ]
    },
    {
      "cell_type": "code",
      "metadata": {
        "id": "qa_2leTOQo4C"
      },
      "source": [
        "# Save the weights using the `checkpoint_path` format\n",
        "# model.save_weights(checkpoint_path.format(epoch=1))"
      ],
      "execution_count": null,
      "outputs": []
    },
    {
      "cell_type": "code",
      "metadata": {
        "id": "O_Vhrqv6Z15R",
        "colab": {
          "base_uri": "https://localhost:8080/",
          "height": 137
        },
        "outputId": "379e20f8-ae9e-4910-c0d7-75039f0ea5d6"
      },
      "source": [
        "history=model.fit(\n",
        "    [x_tr,y_tr[:,:-1]], \n",
        "    y_tr.reshape(y_tr.shape[0],y_tr.shape[1], 1)[:,1:],\n",
        "    epochs=2,\n",
        "    callbacks=[es, \n",
        "               cp_callback\n",
        "               ],\n",
        "    batch_size=32, \n",
        "    validation_data=([x_val,y_val[:,:-1]],y_val.reshape(y_val.shape[0],y_val.shape[1], 1)[:,1:]),\n",
        "    verbose=1\n",
        ")"
      ],
      "execution_count": null,
      "outputs": [
        {
          "output_type": "stream",
          "text": [
            "Epoch 1/2\n",
            "7101/7101 [==============================] - ETA: 0s - loss: 0.8283\n",
            "Epoch 00001: val_loss improved from inf to 1.18419, saving model to /content/drive/My Drive/Colab Notebooks/Final Models/CNN-Dailymail Seq2Seq GRU v2 with Attention/cp-01.ckpt\n",
            "7101/7101 [==============================] - 14268s 2s/step - loss: 0.8283 - val_loss: 1.1842\n",
            "Epoch 2/2\n",
            "5606/7101 [======================>.......] - ETA: 46:49 - loss: 0.8157"
          ],
          "name": "stdout"
        }
      ]
    },
    {
      "cell_type": "code",
      "metadata": {
        "id": "RF57695DZ15T"
      },
      "source": [
        "plt.plot(history.history['loss'], label='train') \n",
        "plt.plot(history.history['val_loss'], label='test') \n",
        "plt.legend() \n",
        "plt.show()"
      ],
      "execution_count": null,
      "outputs": []
    },
    {
      "cell_type": "code",
      "metadata": {
        "id": "gLjqNR8QZ15X"
      },
      "source": [
        "reverse_target_word_index = y_tokenizer.index_word \n",
        "reverse_source_word_index = x_tokenizer.index_word \n",
        "target_word_index = y_tokenizer.word_index"
      ],
      "execution_count": null,
      "outputs": []
    },
    {
      "cell_type": "code",
      "metadata": {
        "id": "gu1xoxbiZ15a"
      },
      "source": [
        "# encoder inference\n",
        "encoder_model = Model(inputs=encoder_inputs,outputs=[encoder_outputs, state_h])\n",
        "\n",
        "# decoder inference\n",
        "# Below tensors will hold the states of the previous time step\n",
        "decoder_state_input_h = Input(shape=(latent_dim,))\n",
        "decoder_hidden_state_input = Input(shape=(max_len_text,latent_dim))\n",
        "\n",
        "# Get the embeddings of the decoder sequence\n",
        "dec_emb2= dec_emb_layer(decoder_inputs)\n",
        "\n",
        "# To predict the next word in the sequence, set the initial states to the states from the previous time step\n",
        "decoder_outputs2, state_h2 = decoder_gru(dec_emb2, initial_state=[decoder_state_input_h])\n",
        "\n",
        "#attention inference\n",
        "attn_out_inf, attn_states_inf = attn_layer([decoder_hidden_state_input, decoder_outputs2])\n",
        "decoder_inf_concat = Concatenate(axis=-1, name='concat')([decoder_outputs2, attn_out_inf])\n",
        "\n",
        "# A dense softmax layer to generate prob dist. over the target vocabulary\n",
        "decoder_outputs2 = decoder_dense(decoder_inf_concat)\n",
        "\n",
        "# Final decoder model\n",
        "decoder_model = Model(\n",
        "    [decoder_inputs] + [decoder_hidden_state_input,decoder_state_input_h],\n",
        "    [decoder_outputs2] + [state_h2]\n",
        ")"
      ],
      "execution_count": null,
      "outputs": []
    },
    {
      "cell_type": "code",
      "metadata": {
        "id": "NoUlq-9NusYR"
      },
      "source": [
        "from random import choice\n",
        "import torch.nn as nn\n",
        "import torch.optim as optim\n",
        "import torch.nn.functional as F\n",
        "\n",
        "def select_topk(outp, k=5):\n",
        "    probs = F.softmax(outp,dim=-1)\n",
        "    vals,idxs = probs.topk(k, dim=-1)\n",
        "    return idxs[torch.randint(k, (1,))]\n",
        "\n",
        "def select_nucleus(outp, p=0.5):\n",
        "    probs = F.softmax(outp,dim=-1)\n",
        "    idxs = torch.argsort(probs, descending=True)\n",
        "    res,cumsum = [],0.\n",
        "    for idx in idxs:\n",
        "        res.append(idx)\n",
        "        cumsum += probs[idx]\n",
        "        if cumsum>p: return idxs.new_tensor([choice(res)])"
      ],
      "execution_count": null,
      "outputs": []
    },
    {
      "cell_type": "code",
      "metadata": {
        "id": "jxbzBlwKZ15d"
      },
      "source": [
        "def decode_sequence(input_seq):\n",
        "    # val = []\n",
        "    val2 = []\n",
        "    # Encode the input as state vectors.\n",
        "    e_out, e_h = encoder_model.predict(input_seq)\n",
        "\n",
        "    # Generate empty target sequence of length 1.\n",
        "    target_seq = np.zeros((1,1))\n",
        "\n",
        "    # Chose the 'start' word as the first word of the target sequence\n",
        "    target_seq[0, 0] = target_word_index['start']\n",
        "\n",
        "    stop_condition = False\n",
        "    decoded_sentence = ''\n",
        "    while not stop_condition:\n",
        "        output_tokens, h = decoder_model.predict([target_seq] + [e_out, e_h])\n",
        "\n",
        "        # Sample a token\n",
        "        try:\n",
        "            sampled_token_index = np.argmax(output_tokens[0, -1, :])\n",
        "            # print(type(output_tokens))\n",
        "            # print(len(output_tokens))\n",
        "            # val.append(output_tokens)\n",
        "            # val.append(reverse_target_word_index[select_nucleus(torch.tensor(output_tokens[0][0])).item()])\n",
        "            val2.append(reverse_target_word_index[select_topk(torch.tensor(output_tokens[0][0]),3).item()])\n",
        "\n",
        "            #print(\"sampled_token_index: \",sampled_token_index)\n",
        "            sampled_token = reverse_target_word_index[sampled_token_index]\n",
        "\n",
        "            if(sampled_token!='end'):\n",
        "                decoded_sentence += ' '+sampled_token\n",
        "\n",
        "                # Exit condition: either hit max length or find stop word.\n",
        "                if (sampled_token == 'end' or len(decoded_sentence.split()) >= (max_len_summary-1)):\n",
        "                    stop_condition = True\n",
        "\n",
        "            # Update the target sequence (of length 1).\n",
        "            target_seq = np.zeros((1,1))\n",
        "            target_seq[0, 0] = sampled_token_index\n",
        "\n",
        "            # Update internal states\n",
        "            e_h = h\n",
        "        except KeyError:\n",
        "            break\n",
        "        \n",
        "    return decoded_sentence,val2"
      ],
      "execution_count": null,
      "outputs": []
    },
    {
      "cell_type": "code",
      "metadata": {
        "id": "XJMBiMJGZ15g"
      },
      "source": [
        "def seq2summary(input_seq):\n",
        "    newString=''\n",
        "    for i in input_seq:\n",
        "      if((i!=0 and i!=target_word_index['start']) and i!=target_word_index['end']):\n",
        "        newString=newString+reverse_target_word_index[i]+' '\n",
        "    return newString\n",
        "\n",
        "def seq2text(input_seq):\n",
        "    newString=''\n",
        "    for i in input_seq:\n",
        "      if(i!=0):\n",
        "        newString=newString+reverse_source_word_index[i]+' '\n",
        "    return newString"
      ],
      "execution_count": null,
      "outputs": []
    },
    {
      "cell_type": "code",
      "metadata": {
        "id": "WfHJJBF-zpJG"
      },
      "source": [
        "# select_nucleus(torch.tensor(val[0][0][0])).item(), select_topk(torch.tensor(val[0][0][0]),5).item()"
      ],
      "execution_count": null,
      "outputs": []
    },
    {
      "cell_type": "code",
      "metadata": {
        "id": "7ZkgYgOb6AxZ",
        "colab": {
          "base_uri": "https://localhost:8080/",
          "height": 1000
        },
        "outputId": "de0168c6-d3c7-4a9a-fe54-1e719a4ca502"
      },
      "source": [
        "for i in range(len(x_tr)):\n",
        "    print(\"Review:\",seq2text(x_tr[i]))\n",
        "    print(\"Original summary:\",seq2summary(y_tr[i]))\n",
        "    pred_sum,val2 = decode_sequence(x_tr[i].reshape(1,max_len_text))\n",
        "    print(\"Predicted summary: \",pred_sum)\n",
        "    # print(f\"Prediction: {' '.join(val)}\")\n",
        "    print(f\"Prediction: {' '.join(val2)}\")\n",
        "    print(\"\\n\")\n",
        "    if(i==10):\n",
        "        break;"
      ],
      "execution_count": null,
      "outputs": [
        {
          "output_type": "stream",
          "text": [
            "Review: by michael zennie published 00 49 est 29 september 2013 updated 16 35 est 30 september 2013 start of it all 2009 obituary photo for josephine patterson mrs ruckinger grandmother and apparent namesake ruckinger first split with her family after allegedly bleeding her grandmother dry as she died 20 years ago long running feud in pennsylvania family ended in violence after woman and her husband broke into her parents home and killed her mother and brother before the two were shot dead by the woman own father police have revealed today the horrific violence friday night that left four dead and only one survivor in the house in rural pennsylvania may have been sparked over lingering resentment over inheritance family member revealed exclusively to mailonline josephine ruckinger 43 hated her family and plotted with her husband jeffrey ruckinger 43 to murder all of them in their house on friday night mrs ruckinger who had been estranged from her family for years rang the doorbell at her her family home and ambushed her mother roberta frew 64 roberta cried out oh my god they have guns before mrs ruckinger opened fire at point blank range with sawed off shotgun family feud long running feud between the frew and rucker families ended with four shot dead as man lost his wife and son rural the killings happened at home outside pennsylvania in sparsely populated county john frew jr 47 tried to grab gun but mr ruckinger truck mechanic shot him multiple times in the chest with and 22 caliber pistol mrs ruckinger father john frew sr retrieved 22 caliber revolver not realizing who the attackers were as he emerged into the room he observed the female intruder down on one knee and at that point he observed the 12 gauge shotgun pointing in his direction state trooper spokesman john told the pittsburgh post gazette that is when mr frew shot his daughter in the head police say mr frew then turned and saw mr ruckinger who fired shotgun at him from the trailer kitchen mr frew returned fire ruckinger was shot dead in the head mr frew was not injured and called 911 when the shooting stopped upon their arrival police found mrs ruckinger still alive but with gunshot wound in the head she was rushed to altoona upmc trauma center where she was later pronounced dead toxicology tests have yet to be completed on the deceased he had no idea that was his daughter said trooper until everything had unfolded police say josephine ruckinger immediately shot her mother at point blank range after the door of the double wide trailer opened friday night she and her husband then entered the family home and jeff ruckinger shot and killed josephine bother john frew junior 47 john frew senior then shot and killed them both invasion police searched the car which was parked at the bottom of the gravel driveway and found loads of ammunition gas can and container of lighter fluid officers searched the ruckinger suzuki esteem station wagon and found large amount of ammunition gas can and can of lighter fluid reports the post gazette roberta frew sister virginia cruse said the daughter and mother did not get along but that she had no idea what spawned friday tragedy the daughter had hatred toward the family she said when josephine was about 20 she and boyfriend trashed her parents home and stole items including pistol then fled to pittsburgh cruse said after that she said more or less they disowned her roberta other sister carol skinner told mailonline that the family was angry after mrs ruckinger moved her grandmother roberta and carol mother in with her and her husband shortly before she died in 2007 we re all pretty mad at her for that little stunt she took everything from my mom before she passed away mrs skinner said self defense he had no idea that was his daughter until after the fact after everything unfolded said pennsylvania state police trooper john jr planned clearly these two individuals came to this house to carry out planned deadly attack on his family said cambria county district attorney kelly callihan would characterize it as home invasion that was murder plot mrs skinner said bonds jewelry and thousands of dollars in cash disappeared while josephine was taking care of her she added that josephine feud with her family has been running for decades jeff ruckinger brother brian ruckinger told triblive com that his brother and josephine had been married few years and had no children some neighbors said that they did not even know the had daughter they thought john jr was the couple only child but the shootings quickly became the talk of town described as being very quiet with little or no industry it an older town resident joe told triblive we re not used to this it is very unusual for this to happen over here you would never think anything like this would happen ken wills neighbor of the could not agree more people will be on their toes for few years \n",
            "Original summary: josephine ruckinger 43 and her husband jeffrey 43 plotted to kill josephine family at their house in rural pennsylvania mrs ruckinger shot dead her mother when she answered the door jeffrey killed mrs ruckinger brother father john frew sr shot josephine in the head before realizing it was his own daughter he then killed jeffrey josephine aunt said family was furious after she took everything from her ailing grandmother before she died in 2007 \n",
            "Predicted summary:   josephine ruckinger 43 shot dead josephine ruckinger and her husband john frew shot mrs ruckinger dead mrs ruckinger brother shot her husband in the chest and killed her husband john frew shot josephine ruckinger dead and her husband john frew shot mrs ruckinger dead mrs ruckinger husband shot her husband and mrs ruckinger dead mrs ruckinger brother shot her husband and mrs ruckinger dead mrs ruckinger brother shot her dead and her husband john frew shot mrs ruckinger dead mrs ruckinger husband shot her dead in the chest and her husband john frew their daughter josephine died\n",
            "Prediction: john ruckinger had was her margaret husband in killed husband william frew shot dead ruckinger 43 her josephine 43 father dead in john her chest and killed his family john josephine shot dead ruckinger dead and killed father john and sr and ruckinger and and josephine brother shot himself husband and her ruckinger mrs her john 43 and dead dead and mrs frew mrs mrs josephine father and himself dead mrs shot daughter before after the the ruckinger dead her ruckinger father john dead husband mrs her chest and chest family were were shot first murder was in end\n",
            "\n",
            "\n",
            "Review: elapsed without any taster dropping dead was dish deemed safe for transportation to hitler table and while people starved during the second world war or lived on rations he carried on feasting like king the book quotes one of his food tasters wolf who was struck by the superior quality of the fuhrer meals she said there was asparagus in season with hollandaise sauce vegetable with little dumplings roasted red peppers rice salads and vegetable stews benito mussolini had dictator benito mussolini been given the chance to rule the world he would have made all his subjects eat an italian diet according to the book he once said that french cooking was worthless and italian the best in the world mussolini thought italian food was the best in the world and his family favourite dessert right does look tasty but that does not mean he feasted on pasta and pizza one of his favourite dishes was less appetising salad of roughly chopped raw garlic dressed with oil and lemon the authors reveal that mussolini tyranny may have ended earlier than 1945 if he had not made changes to his diet they explained how he was diagnosed with an enlarged liver heightened blood sugar and deformed colon but revised diet that included rabbit and chicken brought about startling improvement saddam hussein fish was favourite dish of the notorious leader of iraq who ruled with iron fist from 1937 to 2006 the books reveals he could eat it at any time of the day and loved it as fresh as possible saddam hussein loved his fish cooked fresh so he would often make his staff grill it for him as early as 5am the recipe book reveals how to cook one of his favourites carp right they state on occasion he would rouse his kitchen staff at five or six in the morning to grill some fish he would just caught his callous murderous attitude was even revealed when he ate as the book reveals how once as he chewed olives he told his former chief of intelligence he was spitting out the stones in the way will one day spit out the israelis from their land muammar gaddafi vain as well as powerful libyan ruler gaddafi had secret weapon to ensure he always had pearly white smile camel milk but clark and scott observe that the beauty treatment came with unfortunate side effects vain gaddafi used to drink camel milk to enhance the whiteness of his teeth the camel milk gaddafi liked to drink may have enhanced the brilliant whiteness of his smile but it seems to have played havoc with his digestion whether he suffered from uncontrollable flatulence or whether on the other hand he was able to exploit this affliction to emphasize whatever point he was engaged in making as demonstrated in an interview with john simpson is debatable certainly on visit to his tent in 2004 tony blair was advised not to accept glass of camel milk lest he be similarly afflicted they write one of his favourite meals was dish from his home country camel meat with couscous but he also had penchant for italian food despite banishing italians from libya kim jong il the recipe book reveals how the former leader of north korea was as fastidious as he was cruel they write hundreds of his luckless people were recruited to the project of preserving his health and vigour by way of his diet small army of women was employed to see that every grain of rice destined for his plate was uniform in size shape and colour kim jong il would often feast while his people starved shark fin soup was one of his favourite dishes but as they are now protected species the cookery cook recommends using soy or chicken breast instead it then had to be cooked over fire using only trees cut from mountain peak near the chinese border he loved sushi and it was once reported he enjoyed raw fish so fresh that he could start eating it when its mouth was still gasping and its tail still thrashing more evidence of his cruelty is shown by the way he had live lobsters airlifted to his train as it crossed siberia on its way to moscow and he had food grown for him alone while north koreans starved bon appetit camel meat serves six ingredients tbsp olive oil medium onions finely chopped can of chickpeas tbsp of tomato paste salt and pepper tsp of cinnamon il of water rose water 1kg 2lb 4oz camel meat diced cinnamon sticks cardamom pods bay leaves tsp cayenne pepper 500g 1lb couscous traditional not instant some versions add prunes to deliver sweeter texture to the meat method heat tbsp of olive oil in pan add and cook half the onions until golden stir in the chickpeas and tbsp of tomato paste season with salt pepper and tsp of cinnamon then add 150ml of the water reduce the heat and cook slowly for 55 minutes adding water if it is drying out in that time sprinkle with rose water and dust with cinnamon cover remove from heat and set aside heat tablespoons of oil and cook the remaining onions slowly for 10 to 15 minutes until golden add the camel meat cinnamon sticks cardamom and bay leaves stir to combine and cook on low heat until meat has browned and juices have evaporated add the remaining tomato paste and cayenne pepper and stir to coat the camel meat add of water and bring to low boil in medium sized bowl stir together the couscous tsp of salt sprinkle of rose water and the remaining 50ml of water place the top portion of the or colander over the lower pan with the meat mixture in it and add the couscous mixture to the top portion slowly steam for 90 minutes dictators dinners bad taste guide to entertaining tyrants is out now published by gilgamesh publishing 14 95 \n",
            "Original summary: dictators dinners is cookbook like no other reveals foods loved by world most notorious leaders contains recipes so you can sample them at home authors describe tome as blend of history photo album and recipe book insights include that hitler was not devoted vegetarian \n",
            "Predicted summary:   the former dictator was eating chocolate and fish in his book recipes starving fish eat fish and chips he says he was vegetarian and he says he was vegetarian and he says he was vegetarian and he says he was vegetarian and dishes he says\n",
            "Prediction: andy fish dictator is vegetarian at when served when his sandwiches he starving fish ate steak eat vegetables in says his ate inspired dishes vegan had the is vegetarian he he served the enjoys vegetarian dishes he enjoys he was vegetarian he he it said he of\n",
            "\n",
            "\n",
            "Review: by phil vinter published 10 30 est 22 july 2012 updated 11 21 est 22 july 2012 cruel thief stooped to new low when he stole brand new pink teddy bear from four year old girl tilly donaghey was left heartbroken after criminal snatched her ballet shoe wearing bear in city centre street in the little girl had barely enough time to rename her cuddly friend princess tilly before the opportunist criminal grabbed it from the pushchair next to her painful tilly donaghey was left heartbroken after criminal snatched her ballet shoe wearing bear in city centre street in tilly had pleaded in the weeks leading up to her birthday for pink princess bear and when she was given 40 on the big day she begged her mum to take her on shopping trip on tuesday the family visited the build bear store in leicester and the youngster spent her money on her perfect teddy however just seconds after the excited child and her mum had left the store the bear was taken mum 25 said stopped to look in shop window and tilly had put the bear in the pushchair the next thing knew she was looking round for it and saying she couldn find it didn see anyone take it they must have done it really quickly because one minute it was there and the next it was gone after searching for the teddy without success took her distraught daughter home and called the police said she was devastated she kept saying naughty man has taken my bear and she was crying all night don know how anyone could steal teddy from four year old girl some people must have no morals at all tilly said was sad when the naughty man took it it made me cry leicestershire police are appealing for anyone with information about the theft which happened in street to come forward back with the bear when it heard about tilly unfortunate incident the build bear store in leicester offered little tilly replacement friend jody branston 49 heard about the theft and contacted the shop on tilly behalf to ask if it could help she said just thought how can someone do something so horrible to little girl they nicked pink teddy bear right off the buggy and they knew exactly what they were doing it not like it could have belonged to anyone other than small child no child should be that upset so called the store and asked if staff could do anything and they said yes straight away staff at the shop presented tilly with new identical bear on thursday supervisor oliver ellison remembered serving tilly and her mum on tuesday he said you could tell she loved it was gutted for her when found out it had been taken how can someone do that to little girl \n",
            "Original summary: tilly donaghey had wanted new bear for weeks mother says some people must have no morals \n",
            "Predicted summary:   bear was spotted in the street in the city centre in the city centre she was taken to the royal bear cubs to bear the bear but she was unable to bear the bear\n",
            "Prediction: bear stole snatched in bear snow by the city shopping in nottingham green of green said wearing away bear premises zoological shelter by catch the bear but the did not to bear the bear when\n",
            "\n",
            "\n",
            "Review: manchester city are the premier league champions liverpool threw it away or so everyone would have us believe in fact there are four and half hours of the title race still to run and given what happened in the final 11 minutes at selhurst park on monday night that allows plenty of time for the plot to thicken sportsmail brings you 10 reasons why the premier league title race is not over champions manchester city are 14 favourites to win the premier league thrown it away liverpool title bid stuttered when they were held at crystal palace cannot look luis suarez hides his face following the three goal capitulation at palace while steven gerrard cuts forlorn figure in the background manchester city the champions elect we are told host aston villa on wednesday before welcoming west ham to the etihad on sunday the same day liverpool face newcastle at anfield here sportsmail runs you through 10 reasons why the premier league title race is far from over they have done it once aston villa have already beaten manchester city this season twice they were trailing at villa park yaya toure and edin dzeko having scored either side of karim el ahmadi but two goals inside three minutes courtesy of leandro bacuna and andreas weimann turned the game in the home side favour they ve done it once no reason why they can do it again salute andreas weimann celebrates after scoring the winner for aston villa against manchester city they have done it twice in fact they ve done it more than once for villa were victors at the etihad last season during the third round of the capital one cup gabby agbonlahor scored twice on that occasion and should he be passed fit the forward will no doubt be buoyed by that man of the match showing gift of the gab gabby agbonlahor was on target when villa won at city in the capital one cup last season daft lads might leave reds laughing gary neville certainly thinks villa have it within them to produce an upset villa have some daft players they could do something stupid in big games like score three goals on the counter attack he said burying compliment somewhere in his observation they have taken 10 points off the top four this season more than any other team outside that upper echelon away the lads villa are away for when paul lambert men escape the expectation of their own back yard they are an altogether different proposition on away form they would be 11th in the table as opposed to the 17th they occupy in the home standings they perform far better on the road and with their premier league safety guaranteed the pressure has eased away the lads villa have fared better on the road this season city city entertained the division bottom side sunderland last month and were it not for goalkeeping howler from vito mannone two minutes from time they would have been beaten samir nasri salvaging draw they have it within them to stutter on home soil remember wigan in the fa cup and with both villa and west ham supposed complacency may yet prove their undoing held connor wickham scored twice as sunderland then bottom of the league emerged with draw from the etihad there will be no power sergio aguero is missing because of injury okay edin dzeko is enjoying rich run in front of goal but alvaro negredo has not scored in the league since january and the absence of the argentine could yet prove costly blow sergio aguero will be missing against aston villa because of injury there is time for twist liverpool were long odds on shots to triumph in the title race last month following their victory at norwich and city failure to beat sunderland if this season has shown us anything however it is that the certainties are just as easily turned over villa for the record are 20 shots to nick win at eastlands and we wouldn rule out another twist in the tale just yet there are four and half hours still to play after all reds opponents are out of toon liverpool have it relatively easy on the last day of the season entertaining newcastle side who have lost their last four on the road without scoring goal few early goals at anfield as has been the norm in recent months could make for nervy atmosphere at the etihad were the score still tied flying liverpool and the likes of philippe coutinho right have been on fire at anfield this season can manuel go the distance despite managing in europe for the best part of decade including spell at real madrid manuel pellegrini has never won league title on this continent neither of course has brendan rodgers but the pressure is on pellegrini more than his opposite number on merseyside can he handle the strain feeling the strain manuel pellegrini has never won league title in his 10 years managing in europe 10 liverpool are top liverpool don forget remain one point clear at the summit of the premier league and until that changes it would be foolish to declare this race run \n",
            "Original summary: manchester city have two games left to play this season manuel pellegrini team will face aston villa tonight and west ham on sunday both games are home fixtures at the etihad stadium man city only need four points to make it virtually impossible for liverpool to beat them to the premier league title brendan rodgers men still stand chance however \n",
            "Predicted summary:   manchester city beat aston villa at villa park on sunday the premier league side have lost three of their last four games in row manuel pellegrini side have lost three of their last four games in row manuel pellegrini side are currently fourth in the table\n",
            "Prediction: premier derby beat liverpool city to the city on saturday the win international table beat now four of the five seven games the row sergio pellegrini has have not five and the last nine matches this row sergio montero has have looking fourth on premier league with\n",
            "\n",
            "\n",
            "Review: luis suarez has been included in uruguay 22 man squad for two international friendlies this month in saudi arabia and oman it will be his first selection for uruguay since biting italian defender giorgio chiellini at the world cup uruguay coach oscar tabarez announced the team thursday for matches at saudi arabia on october 10 and at oman three days later suarez could play for uruguay for the first time since the world cup in the friendlies this week suarez was banned for eight international games and given long club ban after biting giorgio chiellini although being allowed to play the friendlies suarez is still banned from uruguay next eight competitive matches this means he will miss next year copa america and some world cup qualifiers the ban also covers competitive matches until later this month for barcelona suarez has played in youth game and friendly for barcelona this season but won return to the proper side until later this month possibly for the el clasico clash with real madrid the uruguayan striker has been able to train with his new club barcelona but cannot play competitively suarez has been given run out in youth and reserve games for barcelona and could return soon the bite on chiellini did not prevent the former liverpool striker making his big money move to spain \n",
            "Original summary: suarez is banned for next eight competitive international matches barcelona striker cannot play any competitive game until late october uruguay star bit italian defender giorgio chiellini at the world cup suarez has returned in youth and reserve games and can play friendlies \n",
            "Predicted summary:   luis suarez will be banned for four months for biting giorgio chiellini uruguay international will be banned for four months for biting giorgio chiellini during world cup warm up friendlies against saudi arabia on thursday suarez will be banned for four months for biting giorgio chiellini\n",
            "Prediction: uruguay suarez banned make banned for three months after the giorgio suarez uruguay striker has miss banned for six games for the giorgio wilson during the cup uruguay up friendlies in saudi arabia qatar thursday suarez will play on for six months after the italy suarez end of\n",
            "\n",
            "\n",
            "Review: cnn every day millions of women apply lipstick without second thought what many do not know is that lipsticks may contain lead the notorious metal that can cause learning language and behavioral problems lead is neurotoxin and can be dangerous even at small doses so what is lead doing in lipsticks not all lipsticks contain lead but number of studies in recent years show that the metal is more prevalent than previously thought in 2007 the campaign for safe cosmetics conducted study poison kiss that detected lead in 61 of the 33 lipsticks tested with levels ranging from 03 ppm to 65 ppm parts per million ppm is the measurement of lead in the environment medical experts say there is no safe level of lead in the blood the fda says it does not consider the lead levels it found in lipsticks to be safety issue no lipstick lists lead as an ingredient the amounts are small but the presence of lead in lipstick which is ingested and absorbed through the skin raises concerns about the safety of cosmetic product that is wildly popular among women urged on by both consumers and the cosmetics industry the food and drug administration conducted its own testing in 2010 the fda results were even more astonishing the agency detected lead in all 400 lipsticks tested ranging from to 06 ppm four times higher than the levels observed in the study done by campaign for safe cosmetics and lead is not the only toxic metal you may be applying to your lips in recent study university of california researchers tested eight lipsticks and 24 lip glosses and detected nine toxic heavy metals including chromium cadmium manganese aluminum and lead the fda said we have assessed the potential for harm to consumers from use of lipstick containing lead at the levels found in both rounds of testing lipstick as product intended for topical use with limited absorption is ingested only in very small quantities we do not consider the lead levels we found in the lipsticks to be safety concern likewise the cosmetics industry also does not see this as an issue saying that the dose makes the poison in other words the trace amounts of heavy metals in lipsticks are not harmful but the fda noted although we do not believe that the lead content found in our recent lipstick analyses poses safety concern we are evaluating whether there may be need to recommend an upper limit for lead in lipstick in order to further protect the health and welfare of consumers indeed what the fda and the cosmetics industry have been ignoring is cumulative exposure and potential long term adverse effects it is true that single lipstick application will not lead to harm and the good news is that not all lipsticks contain detectable levels of lead or other heavy metals and by the way cost does not seem to be factor cheap or expensive lipstick is not the determinant of how much lead is present the problem is when women who wear lipstick apply it two to 14 times day according to the university of california study the result is that they are ingesting and absorbing through their lips as much as 87 milligrams of product day the study says women are not only applying their lipsticks several times day but they also are doing this in the span of whole lifetime which means that exposure to lead and other heavy metals adds up and can potentially affect their health one challenge for people wanting to avoid exposure is that none of the metals with the exception of aluminum are deliberately added to lipsticks and lip glosses the metals are contaminants that are present in the pigments and base materials used to make the products because the metals are not ingredients cosmetics companies are not required to list them on products ingredient labels the law regulating cosmetics passed congress in 1938 and has never been updated the fda possesses no legal authority to make sure products are safe before they are sold nor is the agency empowered to pull dangerous products from store shelves it is the wild west for cosmetics companies which have very few rules restricting chemical ingredients used in everything from shampoos to lotions to lipsticks as the contamination of lip products with heavy metals makes it clear allowing the industry to police itself is not the best idea we need the fda to be empowered by congress and to take action so women will not face any health risks when they put on makeup cosmetics companies should be required to adhere to standard for best manufacturing processes to limit metal contamination for now consumers should take precautions to protect themselves from heavy metal exposure from lip products first use less if you find yourself reapplying lipstick 14 times day consider cutting back second do not let children use lipstick as their young bodies are especially vulnerable to toxic metals then let us get to work to make sure that by the time they have grown up we have solved the problem of toxic chemicals in cosmetics \n",
            "Original summary: studies found higher level of lead in some lipsticks this raises concerns about the safety of popular product she says fda and cosmetic industry should pay attention to long term effects congress needs to update the laws regulating cosmetics \n",
            "Predicted summary:   fda says the study finds toxic chemicals are not harmful to toxic chemicals the fda says the study is not toxic toxic chemicals are not harmful to chemicals\n",
            "Prediction: the says manufacturers fda finds that chemical are not harmful in chemicals chemicals toxic product has it toxic finds not toxic to chemicals have not regulated substance the end in\n",
            "\n",
            "\n",
            "Review: cnn north korea says it will attack the japanese military and major targets if japan shoots down rocket pyongyang plans to launch in the coming days north korea state run news service kcna reported thursday japan recently deployed its missile defense system in anticipation of north korea planned rocket launch if japan recklessly intercepts north korea satellite for peaceful purposes the korean people army will mercilessly deal deadly blows not only at the already deployed intercepting means but at major targets kcna reported japan recently mobilized its missile defense system in response to the planned north korean launch japanese officials said the move noteworthy for country with pacifist constitution is aimed at shooting down any debris from the launch that might fall into japanese territory navy ships capable of shooting down ballistic missiles have also been moved to the sea of japan navy spokesman said the threat of retaliation comes as north korea has begun fueling its long range rocket according to senior military official familiar with the latest intelligence on the matter the fueling signals that the country could be in the final stages of what north korea has said will be the launch of satellite into space as early as this weekend the senior military official said wednesday other military officials said the top portion of the rocket was put on very recently but satellite imagery shows shroud over the stage preventing direct view of what the stage looks like the officials said the satellite payload appears to have bulbous cover which could indicate there is satellite loaded on it such cover protects satellite from damage in flight while the sources did not know for sure what the payload is they did say there is no reason to doubt it is satellite as indicated by north korea pyongyang has said it will conduct the launch sometime between april and april it is launch that may violate 2006 united nations security council resolution resolution 1718 that north korea not conduct any further nuclear test or launch of ballistic missile it raises questions about their compliance with the security council resolution 1718 secretary of state hillary clinton said last week and if they persist and go forward we will take it up in appropriate channels pentagon officials worry less about the payload and more about the launch itself saying any kind of launch will give the north koreans valuable information about improving their ballistic missile program do not know anyone at senior level in the american government who does not believe this technology is intended as mask for the development of an intercontinental ballistic missile defense secretary robert gates said on sunday defense analysts say the same rocket could be used to push satellite into space or deliver nuclear warhead gates noted that while the united states believes it is north korea long term intent to add nuclear warhead to any such rocket he personally would be skeptical that they have the ability right now to do that gates said that the military could shoot down an aberrant missile one that was headed for hawaii or something like that we might consider it but do not think we have any plans to do anything like that at this point he does not believe north korea currently has the technology to reach alaska or pacific coast cnn senior pentagon producer mike mount contributed to this story \n",
            "Original summary: korea says it will attack japanese military major targets if it shoots down rocket japan recently mobilized its missile defense system in response to planned launch korea said it would conduct launch between april and april sources say bulbous shroud atop rocket could indicate satellite aboard \n",
            "Predicted summary:   new pentagon says it will launch an attack on the north korea missile defense secretary chuck hagel says the military will not launch any missile defense plans to launch military exercises in the north korea and japan\n",
            "Prediction: new pentagon spokesman it is drill rocket unmanned in the rocket coast coast test says says grassley says it navy will launch stop rocket missile defense plans pentagon launch rocket exercises in north north of will japan end\n",
            "\n",
            "\n",
            "Review: star mr craig but added that she often said love you at the end of phone conversations with friends or family speaking via video link at the old bailey ms miller was asked about message she left on mr craig phone saying hi it is me cannot speak am at the groucho with jude love you scroll down for video an artist court drawing from the old bailey today ms miller is pictured next to an fbi employee while giving evidence via video link affair hacked message apparently revealed that sienna miller was in relationship with daniel craig her co star in 2004 film layer cake co stars ms miller today admitted the pair were briefly involved the two pictured in film layer cake above as she gave evidence to the old bailey she said the thing that is been slightly misconstrued about this voicemail message is the fact that said love you and that this was some incredibly important declaration of love have always ended my phone calls to daniel saying love you ms miller gave evidence from new orleans and could be seen sitting next to an fbi agent as she was questioned former news of the world reporter dan evans has previously told the court that story about ms miller and mr craig having an affair was partially sourced from the voicemail message ms miller denied the message meant she was in relationship with mr craig but she did tell the court they were briefly involved whether or not was in relationship with daniel craig it was not relationship it was very brief encounter and he was my best friend she said me saying love you whether anything romantic happened briefly or not there was nothing significant friends jude law mr craig and ms miller walking together in north london in may 2004 couple ms miller and jude law were in relationship at the time of the hacked voicemail witness jude law ms miller ex boyfriend gave evidence in the case this week ms miller also confirmed she left messages on the phone of kelly hoppen her former stepmother but denied she was weeping during the phone calls the court heard that evans claimed to hear ms miller crying in message to ms hoppen ms miller said it difficult time to remember it was very emotionally raw it is not possible for me to say whether or not with any certainty think was crying lot at the time but do not think would have been crying in message to kelly hoppen no when asked about her relationship with the media by timothy langdale qc for former editor andy coulson she said it was part of my job to communicate with the media and yes had some negative experiences coulson is on trial charged with conspiring to hack phones and conspiring to commit misconduct in public office alongside former sun and notw editor rebekah brooks and five others all seven defendants deny all the charges against them trial former news of the world reporter dan evans left has given evidence about the newspaper ex editor andy coulson right on the stand evans give evidence under cross examination from timothy langdale qc as coulson looks on the layer cake star said she had pleaded with news of the world journalist to be kinder to mr law when they met at pre baftas party asking him to give jude break she said spoke to him as human being making clear that this was an off the record conversation earlier the court heard that source connected to mr law had asked the news of the world to write that ms miller had cheated first adding that the actress was clingy and bit of stalker news of the world journalist is alleged to have met with mr law publicist to discuss how the tabloid would report the affair the pr asked the journalist to back date the affair so it would appear miss miller cheated on law before he was caught out in fling with his children nanny they allegedly said the request came from mr law himself according to transcript of their taped conversation she said if you could definitely pre date it so that she cheated first that the thing he wants the most the oscar nominated actor was then said to have given his approval to headline saying he had broken off their relationship over the affair this was conversation between two human beings not an actress and journalist appealed to his better nature and this was then abused probably said he one of the nicest kindest people know and you are misrepresenting him please stop it when asked if she had ever courted publicity she said absolutely never not once never ever hand on my heart have taken an oath ms miller said she was not aware that anyone associated with her or her then boyfriend mr law was communicating with the paper in 2005 there was laughter in the court when ms miller was questioned by defence lawyer mr langdale about her message to mr craig which ended love you she said you just told me you love me and interrupted you there was also laughter as the actress struggled to remember the date of her sister savannah wedding she joked this is terrible test thanking her for giving evidence judge mr justice saunders told her am very sorry what has gone on in this court and reported in the press has caused you distress we have tried to limit what has been said in court earlier the court heard that source connected to mr law had asked the news of the world to write that ms miller had cheated first adding that the actress was clingy and bit of stalker the actress called both mr law and mr craig several times day the source said in emails which were read out to jurors the trial continues sorry we are not currently accepting comments on this article \n",
            "Original summary: actress told the old bailey she had brief encounter with co star craig admits leaving voicemail message saying love you but insists she often ended conversations that way said she left messages for stepmother kelly hoppen but denies crying court heard she asked journalist to be nicer to then boyfriend jude law \n",
            "Predicted summary:   craig miller admits he was duped by phone hacking and affair with craig miller the pair were allegedly involved in the affair and hacked them into phone hacking trial mr justice said he was shocked by the news and asked if he had any knowledge of the affair\n",
            "Prediction: glenn miller admits he is duped by pretending hacking phone phone with james craig the former have allegedly sent in an plot harry hacked them to their mr scandal harry justice miller there would shocked and news phone after sent if he would no contacts the the affair mr of\n",
            "\n",
            "\n",
            "Review: by emma reynolds published 08 08 est 29 november 2012 updated 05 38 est december 2012 builder today unveiled britain most luxurious treehouse which cost 60 000 to make and comes complete with log burner 60 inch plasma tv and even hot tub chris whalley created the incredible hideaway in kent over seven months crafting it almost entirely from driftwood gathered from nearby beach the holiday home has plumbing and electricity and comes with all the creature comforts of five star hotel with rustic decor that works in harmony with its natural setting reaching for the sky chris whalley with his luxury treehouse hideaway which he has spent 60 000 on building over seven months rustic look the businessman used scrap wood from builders merchants and driftwood from whitstable beach to construct the home stylish living the cabin promises the finest egyptian cotton linen waters and noble bathrobes and towels and top of the range kitchen crockery handcrafted some pieces of furniture in the house are worth more than 500 each bathing in style an elevated hot tub backs up mr walley claim that this is the most deluxe treehouse in britain entrancing the jacuzzi is the ultimate luxury additions to the magical space the impressive construction sits staggering 20ft above the ground making it the tallest habitable tre house in britain and the most deluxe talented mr whalley who runs holiday letting business started designing his high tech treehouse on computer in march this year to keep costs down he used scraps of wood from builders merchant and piles of driftwood collected from nearby whitstable beach he built the cabin largely without the help of any scaffolding by shimmying up and down the tree with ropes mr whalley and wife michelle 48 who have six children also salvaged enough scrap materials to build cupboards table and bed the finished product now proudly sits around 25ft red cedar tree among the holiday log cabins mr and mrs whalley built six years ago stunning view the hideaway is the tallest habitable treehouse in britain at 20ft from the ground resourceful the grandfather of four shimmied up and down ropes to build the luxury getaway from builders scrap wood and driftwood from whitstable beach inspired the businessman came up with the idea when little girl staying in one of his log cabins tried to climb tree almost every feature in the house including the tree trunk sink and the concrete wood effect kitchen worktop are one of kind bespoke items worth more than 500 the cabin promises the finest egyptian cotton linen waters and noble bath robes and towels and top of the range kitchen crockery the grandfather of four revealed he was inspired to build the luxury home after little girl on holiday in one of his lets nagged him for tree house he said one night me and michelle were staying in the log cabin and sat in the hot tub with glass of wine and said bored needed something to do said wanted to build treehouse at the top of the garden and that was it built it from scratch it was bit ambitious and am glad it is over it is half killed me fantasy home the unusual dwelling sits on top of 25ft cedar tree but has all the amenities of hotel penthouse views it overlooks animal enclosures at wildlife park near canterbury reaching for the stars mr whalley designed the high tech treehouse on computer in march this year there are several treehouses in britain but none that are habitable people often have to go abroad to france if they want to stay in one we have had nothing but good responses so far mr whalley first had the idea for his tree house two years ago when family with young children came to stay in one of his log cabins one of the young girls was trying to climb the tree and mr whalley told her it was not safe but if she came back next year he would build her treehouse last year the holidaymakers returned to the log cabin and it had children treehouse for their youngsters to play in bespoke the tree trunk sink pictured and wood effect worktop make the special home utterly unique booking up decorator helps add the thoughtful touches to the already wildly popular hideaway inspired mr whalley then decided he could do more with the sturdy tree and started his luxury project the couple dreams were almost dashed before they got off the ground after parish council received several complaints and objections but the couple took the objections on board before the application was sent to canterbury city council planning committee the couple were then given the go ahead for their luxury holiday let in october 2011 and began building in march 2012 the treehouse which overlooks animal enclosures at wildlife park near canterbury was completed in october mr whalley said everyone who returned to the site said they loved the children tree house and it was pity that they could not stay in there bookings are now taking being taken with customers from as far away as australia and the branching out for the added luxury the treehouse is available for between 150 and 200 night has already scored an impressive five star score on its tripadvisor reviews \n",
            "Original summary: chris whalley created the luxury treehouse over seven months he used no scaffolding and up and down on ropes it has electricity running water and tree trunk sink the grandfather is making the cabin part of his holiday letting business he is taking bookings from excited tourists as far afield as australia \n",
            "Predicted summary:   the tiny house is the only one of the most expensive hotels in the uk the seaside resort is home to the treehouse of luxury resort in the posh seaside resort spa the spa features spa and spa nestled in the pool and is nestled in the pool\n",
            "Prediction: james tiny resort is built fictional tiny of three nicest expensive televisions in the uk and tiny town opened home for three treehouse spa wood treehouse the devon bath spa town in end spa is spa and outdoor costs spa pool pool and is the on the building end\n",
            "\n",
            "\n",
            "Review: authorities have identified the mother of two toddlers who were found wandering alone on thursday morning on street in long beach california relative of the children got in touch with police and named irene dixon 23 to be the mom of the boys who were left unaccompanied police released photo of dixon and have asked for the public help in locating her she is described as african american feet inches 150 pounds with black hair and brown eyes get in touch police are looking to speak with irene dixon 23 who is believed to be the mother of the boys who were left unaccompanied in long beach relatives also told police that they saw social media post from someone claiming to be dixon it stated she was concerned because she knew police were looking for her we really do not know much at all there was post on facebook early this morning or instagram some kind of social media that we have not been able to confirm yet so that is what we are actively investigating right now to see if we can confirm that sgt robert woods reports surveillance video from liquor store near the location where the boys were discovered showed them walking with an unidentified woman on the sidewalk of atlantic avenue about 45 minutes later the african american boys aged about one and two years old were found alone by amber revels passerby ms revels said the children were soiled with urine at the time and that responding police officers purchased new diapers for them police said the african american boys appeared to be in good health but were unsure exactly how long they had been without supervision abandoned the two unidentified children pictured found wandering the streets are thought to be one and two years old the older child was found wearing brightly colored incredible hulk themed shirt shorts and sandals while the younger boy was wearing stripey shirt and diaper police said witnesses in the immediate area were interviewed but no one was seen with the children or dropping them off the area was searched for any possible video but none was found two block area was also canvassed however no one recognizing the children was located however security camera footage from nearby liquor did show the two toddlers wandering down the sidewalk ktla5 reported on tape security camera footage shows the two children wandering along the streets as locals stop to help cctv the footage was taken from nearby liquor store but the owners were unable to identify the parents the liquor store owner told the network she knew the family who were regular customers but was unable to provide names anyone who knows the mother whereabouts is urged to call long beach police communications at 562 435 or 911 if calling from the city of long beach \n",
            "Original summary: irene dixon 23 is the mother of the boys who were left unaccompanied relative got in touch with police after seeing pictures of the boys concerned passerby called police after spotting the children about 45am the two are both in good health but how they ended up alone is mystery \n",
            "Predicted summary:   police say the mother of two boys identified as roy dixon who was seen in the dixon area of the dixon area of the dixon was found wandering the streets of the area where the children were found wandering the streets of the community in the area police say the two boys were found in the woods near the town of queens police say\n",
            "Prediction: roy have roy mother was one boys was as craig dixon and is in in the dixon dixon of dixon western area police the central dixon the wandering around streets in missouri central of they children had taken wandering alone streets in california dixon police southern community where say the family children have found at their back and their store of the end are the of\n",
            "\n",
            "\n",
            "Review: drug driving motorists will be named and shamed on twitter if they fail police walk the line tests suspects are often asked to prove they are fit to be behind the wheel by carrying out tasks such as negotiating straight line on foot or standing on one leg those who cannot do so and are later convicted can then expect to be publicly named and shamed online scroll down for video motorists who are caught driving while under the influence of drugs or alcohol will be named and shamed on twitter by police officers over the christmas period file image the video or picture evidence of drivers could be posted on the internet within days of the offence courts are setting aside extra time to try to convict defendants within ten days of being stopped enabling police to post footage as soon as the case has finished as part of the joint campaign between police in surrey and sussex officers have released video of driver high on the horse tranquilliser ketamine who was stopped few days before christmas last year jason fray 29 was ordered to prove he was fit to drive by walking in straight line but can clearly be seen weaving unsteadily as he tackles the task the operation aims to crack down on all motoring offences in the run up to christmas and officers will also tweet details about when and where motorists are pulled over for both drink drive and drug offences warning posters will be placed at the spot where drivers were arrested during last year campaign while the public are being encouraged to text officers with details of anyone they suspect of drink or drug driving to raise awareness of their campaign the forces have released footage of jason fray arrested last year sergeant jane derrick the head of roads policing across sussex and surrey said small minority of motorists refused to believe the law applied to them last december 211 were arrested on suspicion of drink or drug driving in sussex just 135 have so far being convicted of offences another five are still going through the courts in move to tackle such delays and get rogue drivers off the roads quickly extra time is being set aside at crawley magistrates court in west sussex to deal with those charged from tomorrow it could result in charged motorists being banned from the roads within ten days of being caught according to police the footage shows fray spectacularly failing roadside test after being stopped in billingshurst struggle after being told to walk in straight line by female officer 29 year old fray is seen missing it completely and has to steady himself before failing the task entirely drug use fray is seen shrugging his shoulders as if unaware of why he cannot perform the basic tasks before admitting he had been using horse tranquilliser ketamine sgt derrick added there is often delay of matter of weeks between an individual being charged and them appearing in court but these slots mean those charged with offences early in december could be dealt with by magistrates and banned from the roads in time for christmas there is no excuse for driving while over the limit or after taking drugs but there remains small minority who refuse to believe that the law applies to them fray from in west sussex was convicted of being in charge of vehicle while unfit through drugs and was banned from driving for four months fined 250 and ordered to pay 85 costs and 25 victim surcharge \n",
            "Original summary: sussex and surrey police officers will name and shame those charged forces joint campaign designed to thwart would be offenders in december video of man charged last year has been released to raise awareness jason fray 29 was in his car while high on horse tranquiliser ketamine \n",
            "Predicted summary:   police are asking for video of the video to be released on christmas day police are asking for the release of the video the video has been posted on youtube and has been viewed more than 500 times\n",
            "Prediction: police officer asking for motorists showing offenders video on be posted cctv april day day say calling for the arrest from the driver on footage was already viewed to youtube by is been viewed over on 500 police it\n",
            "\n",
            "\n"
          ],
          "name": "stdout"
        }
      ]
    },
    {
      "cell_type": "code",
      "metadata": {
        "id": "QOZdOh9JZ15i",
        "colab": {
          "base_uri": "https://localhost:8080/",
          "height": 1000
        },
        "outputId": "67fd01dd-0488-4d2b-a608-4dbd0e7e34dc"
      },
      "source": [
        "for i in range(len(x_val)):\n",
        "    print(\"Review:\",seq2text(x_val[i]))\n",
        "    print(\"Original summary:\",seq2summary(y_val[i]))\n",
        "    pred_sum,val2 = decode_sequence(x_val[i].reshape(1,max_len_text))\n",
        "    print(\"Predicted summary: \",pred_sum)\n",
        "    # print(f\"Prediction: {' '.join(val)}\")\n",
        "    print(f\"Prediction: {' '.join(val2)}\")\n",
        "    print(\"\\n\")\n",
        "    if(i==10):\n",
        "        break;"
      ],
      "execution_count": null,
      "outputs": [
        {
          "output_type": "stream",
          "text": [
            "Review: pensioner benefits including free tv licences bus passes and help with heating bills could be cut under government plans to limit welfare spending iain duncan smith warned existing protections for raft of benefits would have to disappear once the government sets limit on the 100billion welfare bill the state pension will be specifically excluded but the work and pensions secretary made clear that additional payments made to pensioners would not be exempt from any future squeeze work and pensions secretary iain duncan smith said most protecting benefits would have be removed there is growing tension in the cabinet over where up to 12billion in benefit cuts should fall chancellor george osborne has made clear the pain should be felt by working age claimants but the lib dems and even some senior tories are dismayed at the reluctance to consider cuts to pensioner perks david cameron has vowed to honour his 2010 election pledge not to cut pension benefits including the winter fuel allowance free tv licences and bus passes mr duncan smith is understood to be among urging that commitment to leave universal pensioner benefits untouched until 2015 should be reviewed after the next election in the autumn statement mr osborne announced details of new cap on total welfare spending at the start of the parliament the government would have to set limit on the amount which will be spent on benefits each year currently around and if it is breached ministers would be hauled to explain themselves to the commons pensioner benefits including the free bus pass could be included in the welfare cap giving evidence to mps yesterday mr duncan smith revealed that pensioner benefits would be included in the welfare cap raising the prospect of them being cut if spending ran out of control we need maximum flexibility with the cap pretty much all existing will have to disappear he said the new welfare cap will include most benefits within the control of ministers but will not include jobseekers allowance or the state pension while the idea of limiting total spending has proved popular with the public the government has face criticism over what this might mean for individual benefits in december mr cameron admitted that maternity and paternity pay for new parents would be included in new cap on welfare spending the cost of the benefits which are paid to mothers and fathers who take time off work to look after their children is set to exceed 5billion year within four years as more parents take them up but within hours of the the prime minister confirming that they will be covered by new overall cap on most welfare spending the treasury was forced into pledge that it would not cut them in the next parliament chris leslie labour shadow treasury minister said there are clearly major divisions within the government over whether to cap pensioner benefits one minute downing street are ruling it out and the next iain duncan smith is ruling it in it is time for the government to come clean over what exactly they are going to do with pensioner benefits government source said we have been very clear that the state pension will not be included in the welfare cap we will announce more details about what will be included in the cap in our manifesto \n",
            "Original summary: iain duncan smith says almost all will have to disappear work and pensions secretary says welfare cap needs maximum flexibility david cameron wants to repeat pledge to protect pensioner benefits \n",
            "Predicted summary:   iain duncan smith has said welfare handouts would be limited allowance jobseekers allowance will be benefits for free allowance but welfare payments will be made payments will be cut by the welfare system\n",
            "Prediction: welfare duncan smith has announced welfare handouts should have limited to of will could be benefits because families carers free will system could be capped payments for not cut from the welfare system to of\n",
            "\n",
            "\n",
            "Review: cnn the military is bringing home all but 100 troops sent to west africa 10 months ago to support efforts to battle the ebola epidemic the pentagon announced tuesday in press release at the height of the epidemic there were 800 dod department of defense personnel deployed to west africa pentagon press secretary rear adm john kirby said given the success of the response to the crisis the majority of dod personnel in west africa will now return home today around 500 of them are already back to their duty stations and nearly all will return by april 30 all have or will undergo established controlled monitoring procedures kirby said about 100 military service members will remain in west africa to support the 10 000 civilian responders who remain these service members will build on strong military partnership with the armed forces of liberia to enhance their ebola response efforts and provide disaster response training to the government of liberia he said there have been more than 22 000 reported confirmed probable and suspected cases of ebola since the outbreak began with almost 800 known deaths the world health organization said last month that the number of new ebola cases reported in the three worst hit countries liberia sierra leone and guinea fell to its lowest level since late june who said the response has shifted from slowing transmission to ending the epidemic the white house said president barack obama will host some of the people responsible for the success of the response on wednesday this response showcased american leadership at its finest on the world stage just as we came together as nation to fortify our domestic resilience in the face of understandable apprehension the white house said in news release to be sure our tasks are far from complete we will keep working to meet this challenge until there are zero cases in west africa and our domestic infrastructure is fully completed rajiv shah administrator for the agency for international development praised the military performance military engineers oversaw the building of new ebola treatment units military logisticians directed the deployment of life saving resources from across the globe and military doctors supported the brave men and women who treated patients every day shah said in news release just 10 months since the first government personnel deployed we have delivered extraordinary results across west africa cases are down by 80 percent in liberia once the heart of the epidemic we have helped cut down new cases from more than 30 day to as few as one or two \n",
            "Original summary: all but 100 troops will be brought home from west africa by april 30 pentagon says there have been almost 800 known deaths from ebola since the outbreak began \n",
            "Predicted summary:   new the pentagon says the military will not accept its responsibilities the pentagon says the deal will be reached for the withdrawal of troops from africa the pentagon says the military will not accept the military action\n",
            "Prediction: pentagon military west is the pentagon is help force the military pentagon department will its military will be reviewed on the military the troops the africa end army will the move is force conduct the military action against\n",
            "\n",
            "\n",
            "Review: cnn syria nearly year old civil war saw more bloodshed thursday and perhaps moment of peace fighting at huge prison in the volatile city of aleppo brought conflicting rebel claims on whether they controlled all or part of the facility meanwhile the united nations and the united states confirmed an agreement announced by rebels and the government of planned cease fire in the besieged old city of homs that would allow some people to flee and humanitarian aid to arrive for the first time in over year we welcome the news that deal has been reached state department spokeswoman jen psaki said of what she called local humanitarian pause to begin friday an opposition spokesman in homs abu rami said the agreement called for cease fire at time to be set by the government and expected imminently once the fighting halts women civilians over 55 and children under 15 can choose to leave the old city if they agree not to take up arms against the government he said after the first group of evacuations syrian troops would clear the way for aid convoy packed with food and medicine to enter the area for the first time in more than year according to abu rami we have nothing to give the families he told cnn via skype from the old city of homs we are crippled because of the lack of food and medicine which especially affects the women children and the elderly so for the sake of the public good we must agree to this cease fire according to sana the official syrian news agency the government would provide shelter food and medical treatment to people who leave the old city in addition the agreement calls for government forces to allow humanitarian assistance to people who remain in the besieged area sana reported valerie amos the emergency relief coordinator said the cease fire agreement would mean essential supplies for about 500 people in homs what we are waiting for is green light to be given by the parties for safe passage said farhan haq spokesman for secretary general ban ki moon in washington psaki called on syrian president bashar al assad government to follow through on allowing convoys to enter homs adding that an evacuation is not substitute for the safe regular and unfettered delivery of humanitarian assistance to those in need wherever they are we should not be giving credit to regime just for providing food for few days to people who are starving given that is the right moral thing to do and this is something they should have been doing all along psaki said asked about concerns that the syrian regime might be preparing for final assault on those who remain in homs once the other civilians depart psaki refused to speculate but said it was important for the convoys to get access to the old city in aleppo islamist brigade ahrar al sham and al qaeda linked al nusra front took control of the sprawling six story aleppo central prison from government forces after announcing an offensive to free detainees opposition groups the aleppo media center and syrian observatory for human rights said thursday however an activist from the rebel press agency group al khatib later told cnn only part of the prison was under rebel control he cited miscommunication for backtracking on the initial claims information came from the ahrar al sham media office regarding the full takeover of the prison and media activists hurried the transmission of information al khatib told cnn via skype from the city the media center and the observatory could not be immediately reached for comment aleppo is major battle front in the syrian conflict which has killed more than 100 000 people and displaced millions since erupting in 2011 the prison has an estimated 000 detainees many of them prisoners of conscience at least 800 women were among the prisoners al khatib told cnn clashes between government forces and rebels started early thursday after rebels detonated car bomb in front of building in the prison complex housing syrian army troops the aleppo media center said government warplanes dropped barrel bombs on the perimeter of the prison and tanks fired shells to reverse the advance of insurgents causing dozens of casualties the syrian observatory for human rights said cnn joe sterling and tom cohen contributed to this report \n",
            "Original summary: new women children elderly to get chance to leave homs with aid to arrive it is unclear whether rebels have full or partial control of prison in aleppo around 000 people have been detained at the prison many of them women the syrian conflict is nearly years old \n",
            "Predicted summary:   new the united nations says the humanitarian situation is not deteriorating the united nations says the rebels are fighting for the humanitarian situation in aleppo the government says it is monitoring the situation closely monitoring situation\n",
            "Prediction: the humanitarian united states says it united needs in the in the united estimates humanitarian it rebels have holding for humanitarian government crisis the syria prison government has the will monitoring situation rebels end the human closely\n",
            "\n",
            "\n",
            "Review: with the book fifty shades of grey still flying off the shelves women are discovering the power of sexual fantasy some for the first time according to neuroscientists and sai authors of billion wicked thoughts while men tend to have visually driven fantasies women prefer to fantasize about what man might do to them for example the top five female fantasies involve having sex with stranger being worshipped in bed being ravaged in bed being watched by others and enjoying threesome in other words women tend to fantasize about being the object of desire erotica is wonderful but you do not need book to feel sexy in fact indulging in little bit of fantasy on your own may be even more effective at spurring both sexual desire and arousal according to recent study ways to rev up your post baby sex life researchers at the university of michigan have shown that different forms of sexual fantasy may have real impact on arousal and desire particularly for women for their study published in the journal of sexual medicine katherine and sari van anders randomly assigned 128 women and 98 men to one of four groups or arousal conditions one group completed an imagined social situation exercise in which they imagined positive sexual encounter and then answered open ended questions about it the others engaged in typical unstructured fantasy imagining sexual situations but not writing about them while others read an erotic story of the researchers choice or took part in neutral exercise writing about the room they were in then they rated their perceived genital arousal how they felt physically as well as their state desire whether they wanted to have sex the results the first three groups all reported experiencing increased genital and psychological arousal as well as higher state desire compared with the neutral group the group who engaged in unstructured fantasy had the greatest arousal interestingly though the researchers also measured trait desire sort of person general set point for sexual desire once believed to be and discovered that the imagined social situation exercise group the ones imagining positive sexual situation reported significantly higher trait desire after that exercise sex or money what makes you happier that is great news for all of us but particularly for women who often tend to experience sexual desire in response to the sex they are already having in other words you may not feel quite so into sex in the beginning but your desire and arousal grow as the interlude progresses indeed female sexual response is typically characterized by responsive desire while male sexual response is more likely characterized by spontaneous desire says sex educator emily author of the good in bed guide to female orgasms responsive desire is when motivation to have sex begins after sexual behavior has started you are doing something else when your partner comes over and starts kissing you and you think oh yeah that is good idea she explains spontaneous desire more typical of male sexuality works more like this you are walking down the street and for no immediately obvious reason you think hm would like to have sex as the new study suggests actively fantasizing about sex is not just way to pass the time it can create real changes in your body moving you from thinking about sex in the abstract to fueling real desire and arousal fantasy is also sign of healthy sex life and sharing those fantasies with your partner does not just have the potential to spice things up in the bedroom it also means that you feel secure and confident in your relationship it is often been said that the brain is our biggest sex organ and this study only confirms that so give your brain workout with fantasy or two you might be surprised where it leads you beyond fifty shades sex experts share their favorite books \n",
            "Original summary: women tend to about being the object of desire while in bed fifty shades of grey may have helped women discover the power of fantasy can spur both sexual desire and arousal research shows sharing fantasies with your partner means you feel confident in your relationship \n",
            "Predicted summary:   fifty shades of grey is one of the most popular women in the world the men are women and women who are not orgasm are more likely to be sexually attractive men are more likely to be sexually assertive about the sex\n",
            "Prediction: study three of alpha has released of the most popular sex ever america country and men are sexually and women are want not orgasm says less than than be sexually abused men are more likely to have orgasm assertive on the sexual in\n",
            "\n",
            "\n",
            "Review: argentina today hit back at verbal attacks david cameron over the future of the falkland islands the threat of british military action no longer inspires fear hector timerman argentina foreign minister accused the uk of behaving in an aggressive fashion and having no moral authority to lay claim to the falklands and he vowed that argentina will continue to battle to reclaim what it calls the malvinas dismissing britain as the lion roars but does not inspire fear any more attack argentina foreign minister hector timerman dismissed threats of military action from britain as he vowed to step up claims to the falklands tensions between london and buenos aires escalated in 2013 despite referendum of falklanders in march showing 99 per cent wanting to remain uk overseas territory the death of former prime minister margaret thatcher who sent warships the south after argentina invaded in 1982 renewed speculation about whether the uk could mount similar military defence today in christmas message david cameron vowed to counter argentine claims to the falklands and attempts to inflict damage on the islands economy adding britain will always be ready to defend the falkland islands but in 900 word newspaper article entitled peaceful struggle mr timerman claimed the message appeared to forget the peace message that christmas should inspire argentina hector timerman writing in argentine newspaper 12 he accused britain of flouting international law issuing counter productive threats and refusing to enter into negotiations over the future of the islands and he in provocative assessment of britain military capability to defend the islands he added the verbal and military threats of the colonial power will continue to be met with argentina demand for respect for international law and for un resolutions in other words the united kingdom refusal to sit down at the negotiating table is compelling evidence that in the question of the malvinas islands the lion roars but does not inspire fear any more provocative mr timerman dismissed military and verbal threats from the uk insisting argentina would use international law to reclaim the what it calls the malvinas the article was published to mark the anniversary of britain reclaiming the falklands on january 1833 mr timerman added this day january 2014 marks new anniversary of the usurpation by great britain of argentina malvinas south and south sandwich islands and the surrounding maritime areas total of approximately million square kilometres that belongs to the argentine people and the deprivation of which impairs argentina territorial integrity defiant david cameron used his christmas message to the falklands to insist britain would always defend the islands interests he even claimed that despite an escalation of verbal attacks by british officials support for argentina claims to the falkland have received renewed and vigorous support the world over including in britain argentina last year invoked new laws to punish oil firms seeking to exploit oil fields in the seas around the islands mr timerman said it was designed to prevent foreign powers from continuing to plunder the resources existing in the land and maritime areas illegally occupied for over 180 years now but the british foreign office insisted the activities were wholly legitimate and legal and entirely under the control of the government of the island british overseas territory in his festive message mr cameron said 2013 would be remembered as momentous year in the history of the falkland islands the referendum sent clear message that the falkland islands are british through and through and the rest of the world has fundamental duty to respect and honour what you have said so clearly mr cameron added we look to 2014 you can count on the british government continued support in countering the argentine government campaign to claim the islands resources and to inflict damage on your economy the british government will remain steadfast in its commitment to your sovereignty and security the argentine government will never succeed in any attempt to misrepresent the history of your islands or question your right to self determination britain will always be ready to defend the falkland islands \n",
            "Original summary: foreign minister hector brushes aside uk rhetoric claims 2013 saw growing support for argentina claim to islands david cameron used christmas message to vow to support islanders tensions have mounted after referendum and row over drilling for oil \n",
            "Predicted summary:   argentina and falklands islands have been burying falklands argentine argentine prime minister warns falklands deployment is not falklands argentine government has refused to comment on falklands defence\n",
            "Prediction: argentine pm britain islands have falklands burying falklands argentine argentine military minster says falklands deployment has imminent in argentine argentina says vowed to rule end falklands attack argentina to\n",
            "\n",
            "\n",
            "Review: by daily mail reporter published 18 08 est 13 january 2014 updated 05 33 est 14 january 2014 thanks to the generosity of readers the daily mail christmas appeal for sue ryder hospices has now raised an incredible 108 100 over our four week appeal we highlighted the wonderful care and support that the charity provides to the terminally ill and their families from offering pain relief to bereavement counselling for children even just being someone to talk to sue ryder staff and volunteers make real difference but more than 60 per cent of the charity funding comes from voluntary donations without which it could not continue money from mail readers is enough to fund more than 125 home visits posed by models the good news is that the total donated by mail readers is enough to fund more than 125 home visits from sue ryder nurse to provide pain relief or 405 bereavement counselling sessions for grieving children or 13 859 hours of end of life care as chief executive heidi travis says most people would like to die at home or in hospice pain free and surrounded by family and friends sue ryder vision is to make incredible care available to all no matter where they live or what their circumstances are the daily mail christmas appeal is significant step towards making this reality \n",
            "Original summary: daily mail christmas appeal for sue ryder hospices raised 108 100 enough to fund more than 125 home visits from sue ryder nurse equal to 405 bereavement counselling sessions for grieving children \n",
            "Predicted summary:   the 70 year old is suffering from arthritis and pain relief fund has raised more than 70 000 for charity\n",
            "Prediction: the home 000 veteran hospice suffering with arthritis which pain relief fund is raised 64 than 70 000 to the to\n",
            "\n",
            "\n",
            "Review: embraced before burgess jetted off on flight to the uk to join his new club bath burgess holds hands with his girlfriend and the pair will be reunited in couple of weeks sam burgess well ve arrived in bath and been for look around what wonderful town quite jet lagged now but powering on what tonight burgess was happy in his new surroundings on wednesday after flying in from australia the rfu insist they played no part in burgess switch but stuart lancaster huge admirer of league is clearly excited by the prospect of working with such talent england midfield is still not settled with injury and lack of form hampering lancaster attempts to forge tried and trusted partnership burgess could yet be the answer to his prayers having spoken to him his mind set obviously is to make the world cup squad lancaster said we have some very good centres who will have something to say about that and he will have to learn quickly but he mentally strong if he can learn the game he ll bring an invaluable amount to the group he is very very good player and an impressive person what stands out for me is his mental toughness and strength the desire to dominate his opposite number it will be fascinating to see how he goes those who have worked with burgess speak of an intensely competitive individual even by the standards of professional rugby with an almost superhuman capacity to absorb pain and relentless work ethic which drives others around him new zealand born actor and rabbitohs owner russell crowe who signed him from bradford bulls in 2010 described burgess as his sparkly eyed man without doubt burgess is leader of men burgess in action during the 2013 rugby world cup semi final match between england and new zealand hooke will fly to bath in two weeks time to join boyfriend burgess as he begins his rugby union career burgess said his loved ones are excited for him joining aviva premiership side bath the death of his father former professional league player mark at the age of 44 is said to have had profound effect on sam along with his three younger brothers who he has left behind at the rabbitohs to forge new career in union sam has made himself legend in rugby league said bath owner bruce craig key player in the deal to bring burgess to the rec it was absolutely extraordinary that he was able to play 79 minutes with broken cheek bone and be man of the match as well he is warrior who is going to create huge interest in the english game it can only be good for rugby his arrival is set to attract unprecedented attention on bath an upwardly mobile club with great history and an increasingly rosy future on tuesday wallaby scrum half will genia indicated his interest in joining burgess at bath obviously the chance to possibly play with someone as special player like that is definitely appealing genia said burgess far left with mother julie and brothers luke george and thomas after the 2014 nrl grand final the bath star celebrates with russell crowe after the rabbitohs won the nrl grand final match in sydney you saw the type of character he was in that nrl grand final you always want to play with guys who are inspirational and make such an impact but what do those already at the rec think of his pending arrival when bath coach mike ford spoke to me about signing him the first thing he mentioned was his character said bath captain stuart hooper he felt he would fit into our bath system excited about welcoming him and helping him learn our sport and ultimately become very successful rugby union player don think there danger of his arrival disrupting us we ve got numerous people who could be involved with england through to the world cup if everything goes to plan and england win they will all be superstars we re aware of this you have to deal with it it part and parcel of wanting to become great club of course pocket of union diehards will dismiss burgess chances out of hand time is against him and history suggests more converts fail than succeed but such was his league stature and such is england desire for him to make the grade it would be folly to write off his chances of making the world cup despite the inconvenience of depressed fracture of his cheek delaying his start until the turn of the year hooke admitted that there were few sponge baths as sam recovered from his on pitch clash burgess poses after being awarded rugby league international player of the year award last week his brutish carrying sublime off loading and incredible work rate has drawn comparisons with sonny bill williams who switched codes at short notice and became an all black world cup winner in 2011 it is not beyond the realms of possibility that burgess brad barritt billy twelvetrees and kyle eastmond to claim the england jersey he won take much bedding in because his size and the threat he poses in league make him completely different kettle of fish said another successful cross coder saracens and england winger chris ashton sam an exception if you watch him play league he the best player on the pitch every single time there aren many players like that he up there with sonny bill williams time will tell but whatever burgess achieves in union and however long he sticks around the mark he has left in australia where league is king is indelible people talk about sam becoming the greatest english forward to ever come to australia said chief executive shane richardson the reality is he could be one of the greatest forwards to have ever played the game burgess has new game to play now buckle up it going to be some ride \n",
            "Original summary: sam burgess left australia to fly to the uk to join new club bath the former rugby league player quit south sydney rabbitohs to sign for english rugby union outfit bath burgess girlfriend phoebe hooke will join him in bath in two weeks the 25 year old fractured his cheekbone and eye socket during south sydney nrl grand final win earlier this month bath lost 21 19 at home to toulouse on saturday england will be hoping he is the final piece of jigsaw \n",
            "Predicted summary:   sam burgess arrives in new zealand to join bath burgess is expected to fly half of england rugby union to play sam burgess is expected to fly half of his england squad to face burgess\n",
            "Prediction: burgess rugby is in new england to join rugby burgess played expected to be half time england rugby world cup fly rugby burgess will expected to fly to to the new rugby next face sam samoa union\n",
            "\n",
            "\n",
            "Review: by emily crane scientists have discovered number of fish eating spiders that can consume prey twice their size and weight study by zoologists in australia and switzerland has found that while spiders typically prey on insects some species will supplement their diet by catching small fish the spiders some of which are capable of swimming diving and walking on the water surface have powerful and enzymes that enable them to kill and digest fish that often exceed them in size study by zoologists in australia and switzerland has found that while spiders typically prey on insects some species will supplement their diet by catching small fish martin from the university of basel in switzerland and bradley pusey from the university of western australia observed spiders from as many as five families predating on small fish in the wild across the world they also examined three more spider species catching fish under laboratory conditions these so called semi aquatic spiders typically dwell at the fringes of shallow freshwater streams ponds or swamps the finding of such large diversity of spiders engaging in fish predation is novel mr said our evidence suggests that fish might be an occasional prey item of substantial nutritional importance the spiders some of which are capable of swimming diving and walking on the water surface have powerful and enzymes that enable them to kill and digest fish that often exceed them in size these so called semi aquatic spiders typically dwell at the fringes of shallow freshwater streams ponds or swamps based on the results of the study published by the academic journal plos one naturally occurring fish predation by spiders occurs right across the world expect for antarctica most incidents have been documented in north america especially in the wetlands of florida where semi aquatic spiders have often been witnessed catching and eating small freshwater fish such as in order to catch its prey the spider will typically anchor its hind legs to stone or plant with its front legs resting on the surface of the water ready to ambush the fish will then be dragged to dry place before the feeding process can begin which usually lasts several hours martin from the university of basel in switzerland and bradley pusey from the university of western australia observed spiders from as many as five families predating on small fish in the wild across the world \n",
            "Original summary: from switzerland and australia observed five different species of fish eating spiders across the world spiders have powerful and enzymes that enable them to kill and digest fish semi aquatic spiders dwell in freshwater streams ponds or swamps evidence suggests fish may be of substantial nutritional importance \n",
            "Predicted summary:   fish frogs fish and insects are the fish to diet and fish eggs fish eggs and bananas are the most fish in the world they are fish larvae and fish eggs are also being used to funnel fish to protect fish and fish\n",
            "Prediction: scientists frogs and and frogs are fish eggs and diet the fish the and and are bananas are the ideal fish in the world the have also larvae from eggs eggs fish found in pumped by hunt the into the fish end eggs end to\n",
            "\n",
            "\n",
            "Review: it should not be five white men danny cohen the bbc director of television singled out match of the day for fresh criticism over the racial mix of pundits match of the day needs to become more diverse with fewer white men on its panel of pundits the bbc has said days after announcing its dramas would include more black and gay actors to reflect modern britain the corporation turned its sights on sports shows danny cohen the bbc director of television singled out bbc1 saturday football highlights programme for fresh criticism he said if we have five people on panel show it shouldn be five white men think the same thing of match of the day it very diverse sport and it shouldn be like that although mr cohen stopped short of calling for diversity quota for match of the day hosts he made it clear he expects to see changes to the make up of sports panels in the near future his comments may cause some anxiety for the programme current team of presenters the weekly show is normally fronted by former england footballer gary lineker 53 who is paid 5million year for his services he is often paired with his former teammate alan shearer 43 and retired scotland player alan hansen 58 and they are frequently joined by string of other white male pundits including robbie fowler 38 and michael owen 34 the corporation does have some prominent black football pundits and has lined up manchester united player rio ferdinand to join its world cup team in brazil this summer the first female commentator to appear on match of the day was jacqui oatley in 2007 while radio five live appointed charlotte green as the new voice of its classified sports results last year last month mr cohen was embroiled in row with one of the bbc top comics after he said it was not acceptable to have all male comedy panel shows and said every one filmed from now on will have at least one woman his remarks were criticised by mock the week presenter dara briain who said the move would make female guests appear to be token women it very diverse sport and it shouldn be like that although mr cohen stopped short of calling for diversity quota he made it clear he expects to see changes to the make up of sports panels soon but mr cohen reiterated his determination to change the gender balance of tv this week saying there isn problem on some of the panel shows they try to have good gender balance all the time others it was like pushing water up hill and we kept saying it and it wasn happening we got to the point where we thought this is not acceptable anymore this doesn reflect the world we live in in leadership role can either keep pushing and hope it going to evolve or can set some really clear examples to provide beacon for what our expectations are speaking at separate event drama controller ben stephenson said he wants more black and gay actors on tv in bid to reflect britain as it really is \n",
            "Original summary: comes after bbc said dramas should have more black and gay actors \n",
            "Predicted summary:   bbc presenters have been broadcasting for the bbc programme presenters have been criticised for broadcasting and presenters gary neville said presenters are not good enough to be careful\n",
            "Prediction: bbc presenter are kissed watching to four first since presenters stuart had criticised as broadcasting and presenters gary neville criticised bbc have more sure and to have the not up\n",
            "\n",
            "\n",
            "Review: by lizzie edmonds ferrari driver was remarkably uninjured after he smashed his supercar into this central reservation of the m1 these images show the aftermath of the high speed crash which took place near to woolley edge services in wakefield west yorkshire the front of the ferrari 458 italia is almost destroyed in the images while the bonnet sticks up in the air smash driver was left uninjured when he smashed his ferrari 458 into the central reservation on the m1 damage the car bumper was smashed following the collision near wakefield west yorkshire on monday luckily the rest of the car prices for which start at around 170 000 appears relatively unscathed fortunately the driver was not injured in the crash which took place at around 45pm on monday no one else was harmed in the crash either police confirmed officers took to twitter after the collision to issue road safety advice after the car careered into the barrier on the northbound carriageway the west yorkshire road policing unit tweeted ferrari into the central reservation bad weather conditions be careful warning west yorkshire police road unit tweeted this picture of the crash taking the opportunity to warn drivers about poor driving conditions due to bad weather hot wheels officers then commented on the 170 000 vehicle saying it was very nice car production of the ferrari 458 began in 2009 it is rear mid engine rear wheel drive there are two different body types berlinetta and spider engine v8 562 hp at 000 rpm transmission speed dual clutch acceleration 100 km 62 mph in seconds top speed 325 km 202 mph price begins at 169 545 they later added it was very nice car the ferrari 60mph acceleration is seconds with top speed of 202 mph it is powered by v8 engine which produces 562 hp at 000 rpm last week another ferrari was in the spotlight for very different reason because its owner had wrapped it in 000 work of gold vinyl the 200 000 248 spider belonged to kickboxing world champion riyadh al mr al parked the italian supercar outside gym in kensington london where he was training it was not long before it attracted crowds of gawping onlookers some of which even took videos of the rather garish vehicle \n",
            "Original summary: ferrari 458 italia smashed into central reservation of m1 on monday driver was not hurt in smash near wakefield west yorkshire prices of v8 ferrari at around 170 000 \n",
            "Predicted summary:   the driver of the audi was hit by car at the speed of the lorry on monday the driver of the audi was unhurt but the driver was unhurt police are investigating the crash and the driver of the vehicle\n",
            "Prediction: ferrari crash was audi audi a3 caught with the in the time of 56mph m1 the monday morning audi was the peugeot was uninjured the was car has uninjured police say investigating and driver and the car is the car was\n",
            "\n",
            "\n",
            "Review: the americans admitted they may have inadvertently encouraged the argentinians to invade the falkland islands it emerged last night the former head of the cia privately confessed that argentina may wrongly have believed its support for us covert operations in central america would mean washington acquiescence for the 1982 invasion in fact despite friction between london and washington the pentagon provided vital behind the scenes support for the british military to retake the islands classified former cia chief william casey pictured here with president ronald reagan was concerned that the us might have given argentina false sense of security over the falklands invasion but newly declassified files reveal fears at the heart of us intelligence that misunderstanding over us foreign policy could have led buenos aires to believe an invasion would not upset washington just over month after the argentinian surrender in june 1982 sir nicholas henderson then about to retire as uk ambassador in washington recalled conversations with cia director william casey in telegram to his foreign office bosses in london sir nicholas wrote it is relevant that mr william casey the head of the cia who was closely concerned in cabinet discussion on this subject has implied to us privately that he thinks the argentinians may well have been led up the wrong path they may have believed that their support for the us in covert operations in central america was more important to the us than in fact it was and could be expected to earn them american acquiescence in forward policy elsewhere sir nicholas also recalled handing us secretary of state alexander haig piece of paper detailing british evidence of argentina intention to invade on april 1982 he said mr haig reaction to the information had given him was electric sir nicholas added he wanted us to win and would have been horrified if the argentinians had got away with it misunderstanding files reveal that the then ambassador to the us sir nicholas henderson right had recalled conversations in washington where cia voiced concerns about their relationship with argentina \n",
            "Original summary: cia boss william casey voiced concerns over argentina confidence in us washington admitted they might have inadvertently encouraged argentina \n",
            "Predicted summary:   argentina foreign secretary william hague attends the red carpet in geneva switzerland and argentina the argentine foreign secretary william hague was among the names of foreign armies argentina admiral william hague said the falklands war was invaded\n",
            "Prediction: gary foreign minister said hague said the washington carpet at geneva the former estonia the us sailed foreign is hague was also foreign falklands in foreign intelligence argentina admiral gary saunders was that us is has invaded by in\n",
            "\n",
            "\n"
          ],
          "name": "stdout"
        }
      ]
    },
    {
      "cell_type": "code",
      "metadata": {
        "id": "5IShrMhrZ15l"
      },
      "source": [
        "!pip install rouge-score\n",
        "from rouge_score import rouge_scorer\n",
        "\n",
        "scorer = rouge_scorer.RougeScorer(['rouge1', 'rougeL'], use_stemmer=True)\n",
        "scores = scorer.score('The quick brown fox jumps over the lazy dog', 'The quick brown dog jumps on the log.')"
      ],
      "execution_count": null,
      "outputs": []
    }
  ]
}